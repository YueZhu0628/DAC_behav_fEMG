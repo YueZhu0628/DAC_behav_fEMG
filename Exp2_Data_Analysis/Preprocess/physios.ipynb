{
 "cells": [
  {
   "cell_type": "code",
   "execution_count": null,
   "id": "019df07b-3ef3-477a-881d-7d526b500f19",
   "metadata": {},
   "outputs": [],
   "source": [
    "# %preprocess physiological data files%\n",
    "# compute values of zyg, cog, scr for each trigger in each trial\n",
    "# combine physiological values to behavioral data file (one row per trial)\n",
    "# coding=utf-8\n",
    "\n",
    "import numpy as np\n",
    "import pandas as pd\n",
    "import matplotlib.pyplot as plt\n",
    "from constant import *\n",
    "from pyphysio.pyphysio import signal, filters, segmenters, interactive\n",
    "from pyphysio.pyphysio.specialized.eda import DriverEstim, PhasicEstim, preset_phasic"
   ]
  },
  {
   "cell_type": "code",
   "execution_count": null,
   "id": "bfa8f50c-99d4-4c7e-9e93-181cf01fe4f7",
   "metadata": {},
   "outputs": [],
   "source": [
    "# load data\n",
    "def load_data(datafile, triggers):\n",
    "    col_names = [\"zyg\",\"scr\",\"cor\",\"trg1\",\"trg2\",\"trg3\",\"trg4\",\"trg5\",\"trg6\",\"trg7\",\"trg8\",\"na\"]\n",
    "    data = pd.read_csv(datafile, sep='\\t', names = col_names, index_col=False)\n",
    "    data['line'] = np.array(list(np.linspace(0, data.shape[0]-1, data.shape[0])), int)\n",
    "    data[\"binary\"] = data.trg1.astype(str) + data.trg2.astype(str) + data.trg3.astype(str) + \\\n",
    "    data.trg4.astype(str) + data.trg5.astype(str) + data.trg6.astype(str) + \\\n",
    "    data.trg7.astype(str) + data.trg8.astype(str)\n",
    "    df = data.merge(triggers, on=\"binary\").drop([\"Binary\"], axis=1).sort_values(by='line')\n",
    "    return df"
   ]
  }
 ],
 "metadata": {
  "kernelspec": {
   "display_name": "Python 3 (ipykernel)",
   "language": "python",
   "name": "python3"
  },
  "language_info": {
   "codemirror_mode": {
    "name": "ipython",
    "version": 3
   },
   "file_extension": ".py",
   "mimetype": "text/x-python",
   "name": "python",
   "nbconvert_exporter": "python",
   "pygments_lexer": "ipython3",
   "version": "3.11.7"
  }
 },
 "nbformat": 4,
 "nbformat_minor": 5
}
