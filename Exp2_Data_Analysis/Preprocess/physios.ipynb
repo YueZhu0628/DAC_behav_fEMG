{
 "cells": [
  {
   "cell_type": "code",
   "execution_count": null,
   "id": "019df07b-3ef3-477a-881d-7d526b500f19",
   "metadata": {},
   "outputs": [],
   "source": [
    "# %preprocess physiological data files%\n",
    "# compute values of zyg, cog, scr for each trigger in each trial\n",
    "# combine physiological values to behavioral data file (one row per trial)\n",
    "# coding=utf-8\n",
    "\n",
    "import numpy as np\n",
    "import pandas as pd\n",
    "import matplotlib.pyplot as plt\n",
    "from constant import *\n",
    "from pyphysio.pyphysio import signal, filters, segmenters, interactive\n",
    "from pyphysio.pyphysio.specialized.eda import DriverEstim, PhasicEstim, preset_phasic"
   ]
  },
  {
   "cell_type": "code",
   "execution_count": null,
   "id": "bfa8f50c-99d4-4c7e-9e93-181cf01fe4f7",
   "metadata": {},
   "outputs": [],
   "source": [
    "# load data\n",
    "def load_data(datafile, triggers):\n",
    "    col_names = [\"zyg\",\"scr\",\"cor\",\"trg1\",\"trg2\",\"trg3\",\"trg4\",\"trg5\",\"trg6\",\"trg7\",\"trg8\",\"na\"]\n",
    "    data = pd.read_csv(datafile, sep='\\t', names = col_names, index_col=False)\n",
    "    data['line'] = np.array(list(np.linspace(0, data.shape[0]-1, data.shape[0])), int)\n",
    "    data[\"binary\"] = data.trg1.astype(str) + data.trg2.astype(str) + data.trg3.astype(str) + \\\n",
    "    data.trg4.astype(str) + data.trg5.astype(str) + data.trg6.astype(str) + \\\n",
    "    data.trg7.astype(str) + data.trg8.astype(str)\n",
    "    df = data.merge(triggers, on=\"binary\").drop([\"Binary\"], axis=1).sort_values(by='line')\n",
    "    return df"
   ]
  },
  {
   "cell_type": "code",
   "execution_count": null,
   "id": "a03d5cee-b819-4a8b-a3bc-5732c58cfb3c",
   "metadata": {},
   "outputs": [],
   "source": [
    "# separate phases\n",
    "def sep_phases(df, phase_names):\n",
    "    df['Phase'] = ''\n",
    "    line_idxs = {}\n",
    "    for phase in phase_names:\n",
    "        line_i = np.where(df['TriggerName']== phase)[0][0]\n",
    "        line_n = df.line.iloc[line_i]\n",
    "        line_idxs[phase]=line_n\n",
    "    # Practice Start\n",
    "    df.loc[df.line.isin(range(line_idxs['prac2BackStart'],line_idxs['caliStart'])),'Phase'] = \"Practice2Back\"\n",
    "    df.loc[df.line.isin(range(line_idxs['caliStart'],line_idxs['prac1BackStart'])),'Phase'] = \"Calibration\"\n",
    "    df.loc[df.line.isin(range(line_idxs['prac1BackStart'],line_idxs['prac3BackStart'])),'Phase'] = \"Practice1Back\"\n",
    "    df.loc[df.line.isin(range(line_idxs['prac3BackStart'],line_idxs['testStart'])),'Phase'] = \"Practice3Back\"\n",
    "    # Test Start\n",
    "    df.loc[df.line.isin(range(line_idxs['offlineT0Start'],line_idxs['learningStart'])),'Phase'] = \"OfflineRatingT0\"\n",
    "    df.loc[df.line.isin(range(line_idxs['learningStart'],line_idxs['offlineT1Start'])),'Phase'] = \"Learning\"\n",
    "    df.loc[df.line.isin(range(line_idxs['offlineT1Start'],line_idxs['trueChoiceStart'])),'Phase'] = \"OfflineRatingT1\"\n",
    "    df.loc[df.line.isin(range(line_idxs['trueChoiceStart'],line_idxs['offlineT2Start'])),'Phase'] = \"TrueChoice\"\n",
    "    \n",
    "    df.loc[df.line.isin(range(line_idxs['offlineT2Start'],line_idxs['learningCheckT1Start'])),'Phase'] = \"OfflineRatingT2\"\n",
    "    df.loc[df.line.isin(range(line_idxs['learningCheckT1Start'],line_idxs['falseChoiceStart'])),'Phase'] = \"LearningCheckT1\"\n",
    "    df.loc[df.line.isin(range(line_idxs['falseChoiceStart'],line_idxs['offlineT3Start'])),'Phase'] = \"FalseChoice\"\n",
    "    df.loc[df.line.isin(range(line_idxs['offlineT3Start'],line_idxs['learningCheckT2Start'])),'Phase'] = \"OfflineRatingT3\"\n",
    "    df.loc[df.line.isin(range(line_idxs['learningCheckT2Start'],line_idxs['demandRatingStart'])),'Phase'] = \"LearningCheckT2\"\n",
    "    # Demand Manipulation Check\n",
    "    df.loc[df.line.isin(range(line_idxs['demandRatingStart'],line_idxs['expEnd'])),'Phase'] = \"DemandRating\"\n",
    "    # separate phases\n",
    "    df_learning = df[df['Phase'] == \"Learning\"].copy().sort_values('line')\n",
    "    df_true_choice = df[df['Phase'] == \"TrueChoice\"].copy().sort_values('line')\n",
    "    df_false_choice = df[df['Phase'] == \"FalseChoice\"].copy().sort_values('line')\n",
    "    df_offlines = df[df['Phase'].str.startswith(\"OfflineRating\")].copy().sort_values('line')\n",
    "    df_learning_checks = df[df['Phase'].str.startswith(\"LearningCheck\")].copy().sort_values('line')\n",
    "    df_demand_ratings = df[df['Phase'] == \"DemandRating\"].copy().sort_values('line')\n",
    "    # combine into a dict\n",
    "    df_physios_raw = {'Learning':df_learning, 'TrueChoice':df_true_choice, 'FalseChoice':df_false_choice, 'Offlines':df_offlines,\n",
    "                     'LearningCheck':df_learning_checks, 'DemandRating':df_demand_ratings}\n",
    "    return df_physios_raw"
   ]
  },
  {
   "cell_type": "code",
   "execution_count": null,
   "id": "997c4868-7dcc-4847-b424-81703025ed45",
   "metadata": {},
   "outputs": [],
   "source": [
    "# add trial number\n",
    "def add_trial_n(df):\n",
    "    trial_n = []\n",
    "    trial_count = 0            \n",
    "    for i in range(df.shape[0]):\n",
    "        if df['TriggerName'].iloc[i] == \"trialStart\":\n",
    "            if df['TriggerName'].iloc[i+1] != \"trialStart\":\n",
    "                trial_count += 1\n",
    "        if df['TriggerName'].iloc[i] == \"trialEnd\":\n",
    "            pass\n",
    "        trial_n.append(trial_count)\n",
    "    df_trialed = df.copy()\n",
    "    df_trialed['Trial_N'] = trial_n\n",
    "    return df_trialed"
   ]
  },
  {
   "cell_type": "code",
   "execution_count": null,
   "id": "2ba1d343-b2c0-4a36-b99d-e117aec9d676",
   "metadata": {},
   "outputs": [],
   "source": [
    "def ex_timeout(df):\n",
    "    rep = 0\n",
    "    df_in = df.copy()\n",
    "    while sum(df['TriggerName']==\"respChoiceTimeout\"):\n",
    "        rep += 1\n",
    "        trial_ex = set(df[df['TriggerName']==\"respChoiceTimeout\"].Trial_N)\n",
    "        trial_in = set(df.Trial_N) - trial_ex\n",
    "        df_in = df[df['Trial_N'].isin(trial_in)].copy()\n",
    "        if rep == 3:\n",
    "            break\n",
    "    return df_in"
   ]
  },
  {
   "cell_type": "code",
   "execution_count": null,
   "id": "058f9c1d-2cbc-4d36-941e-d9228e71ab28",
   "metadata": {},
   "outputs": [],
   "source": [
    "def clean_phases(dfs, phase_names=['Learning','TrueChoice','FalseChoice','Offlines']):\n",
    "    df_physios = {}\n",
    "    for phase in phase_names:\n",
    "        df_p = dfs[phase]\n",
    "        df_trialed = add_trial_n(df_p)\n",
    "        df_in = ex_timeout(df_trialed)\n",
    "        df_physios[phase] = df_in\n",
    "    return df_physios"
   ]
  },
  {
   "cell_type": "code",
   "execution_count": null,
   "id": "ce92987d-92e1-4d76-85c4-303e38f72f98",
   "metadata": {},
   "outputs": [],
   "source": [
    "def ex_outliers_iqr(df, channel, gpb='label'):\n",
    "    iqrs = df.groupby(gpb)[f'{channel}_IIRFilter_NotchFilter_femg_mean'].quantile([0.05, 0.95]).unstack(level=1)\n",
    "    low_outs = iqrs.loc[df[gpb],0.05] > df[f'{channel}_IIRFilter_NotchFilter_femg_mean'].values\n",
    "    high_outs = iqrs.loc[df[gpb],0.95] < df[f'{channel}_IIRFilter_NotchFilter_femg_mean'].values\n",
    "    ts = set(df['trialn'].values)\n",
    "    t_outs = set(df.loc[(low_outs | high_outs).values]['trialn'].values)\n",
    "    t_ins = tns - outs\n",
    "    df_clean = df[df['trialn'].isin(ins)]\n",
    "    return df_clean"
   ]
  },
  {
   "cell_type": "code",
   "execution_count": null,
   "id": "4ba50925-ccca-46fa-940d-d0a0b0694b2b",
   "metadata": {},
   "outputs": [],
   "source": [
    "def diff_values(df, channel):\n",
    "    values = []\n",
    "    trials = range(10)\n",
    "    trials_in = set(df_res_clean['trialn'].values)\n",
    "    for i in trials:\n",
    "        if i in trials_in:\n",
    "            df = df_res_clean.loc[df_res_clean['trialn']==i,['label',f'{channel}_IIRFilter_NotchFilter_femg_mean']]\n",
    "            idx = list(df.columns).index(f'{channel}_IIRFilter_NotchFilter_femg_mean')\n",
    "            df.iloc[0, idx]\n",
    "            fixa = df.iloc[0, idx]\n",
    "            target = df.iloc[1, idx]\n",
    "            diff = target - fixa\n",
    "        else:\n",
    "            diff = np.nan\n",
    "        values.append(diff)\n",
    "        zvalues = zscore(values, nan_policy='omit')\n",
    "    diffs = pd.DataFrame({'trials':trials, f'{channel}_values':values, f'{channel}_zvalues':zvalues})\n",
    "    return diffs"
   ]
  },
  {
   "cell_type": "code",
   "execution_count": null,
   "id": "fee016bc-6e61-43f2-8eae-5c37221ef1fc",
   "metadata": {},
   "outputs": [],
   "source": []
  },
  {
   "cell_type": "code",
   "execution_count": null,
   "id": "5a1f2374-43db-44b0-b32d-b3fadfe4700d",
   "metadata": {},
   "outputs": [],
   "source": []
  },
  {
   "cell_type": "code",
   "execution_count": null,
   "id": "0156e35f-d23f-46aa-93b6-996e83131f17",
   "metadata": {},
   "outputs": [],
   "source": []
  }
 ],
 "metadata": {
  "kernelspec": {
   "display_name": "Python 3 (ipykernel)",
   "language": "python",
   "name": "python3"
  },
  "language_info": {
   "codemirror_mode": {
    "name": "ipython",
    "version": 3
   },
   "file_extension": ".py",
   "mimetype": "text/x-python",
   "name": "python",
   "nbconvert_exporter": "python",
   "pygments_lexer": "ipython3",
   "version": "3.11.7"
  }
 },
 "nbformat": 4,
 "nbformat_minor": 5
}
