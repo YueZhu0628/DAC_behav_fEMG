{
 "cells": [
  {
   "cell_type": "code",
   "execution_count": null,
   "id": "73a981e9-3f5f-49ff-8ff2-62335024e623",
   "metadata": {},
   "outputs": [],
   "source": [
    "# manually delete the blank rows and the 4th column in \"DACFE_trigger.csv\" file\n",
    "triggers = pd.read_csv('DACFE_trigger.csv', header=0)\n",
    "triggers[\"Binary\"] = triggers[\"Binary\"].astype(int) * 5\n",
    "triggers[\"binary\"] = triggers[\"Binary\"].astype(str).str.zfill(8)\n",
    "for i in range(triggers.shape[0]):\n",
    "    triggers.loc[i,\"binary\"] = triggers.loc[i, \"binary\"][::-1]  # start, stop, stepsize = -1"
   ]
  },
  {
   "cell_type": "code",
   "execution_count": null,
   "id": "2a5c540a-e5a7-4c1d-b77e-20bdfa9a05df",
   "metadata": {},
   "outputs": [],
   "source": [
    "# physio signal filter parameters\n",
    "samp_rate = 1_000"
   ]
  }
 ],
 "metadata": {
  "kernelspec": {
   "display_name": "Python 3 (ipykernel)",
   "language": "python",
   "name": "python3"
  },
  "language_info": {
   "codemirror_mode": {
    "name": "ipython",
    "version": 3
   },
   "file_extension": ".py",
   "mimetype": "text/x-python",
   "name": "python",
   "nbconvert_exporter": "python",
   "pygments_lexer": "ipython3",
   "version": "3.11.7"
  }
 },
 "nbformat": 4,
 "nbformat_minor": 5
}
