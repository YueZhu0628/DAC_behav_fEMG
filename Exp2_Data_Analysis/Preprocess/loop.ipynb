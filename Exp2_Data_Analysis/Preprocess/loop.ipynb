{
 "cells": [
  {
   "cell_type": "code",
   "execution_count": null,
   "id": "37a22e44-0c48-40a8-8887-534525acbcb4",
   "metadata": {},
   "outputs": [],
   "source": [
    "# loop through all participants"
   ]
  },
  {
   "cell_type": "code",
   "execution_count": null,
   "id": "1d1d905f-0fbc-4abc-9c3f-cc0c05fbf4f6",
   "metadata": {},
   "outputs": [],
   "source": []
  },
  {
   "cell_type": "code",
   "execution_count": null,
   "id": "c45883cd-b93b-4752-8d86-3ff8913cf3f6",
   "metadata": {},
   "outputs": [],
   "source": []
  },
  {
   "cell_type": "code",
   "execution_count": null,
   "id": "b8c32ed0-759e-438c-ab10-f5f80c55864c",
   "metadata": {},
   "outputs": [],
   "source": []
  },
  {
   "cell_type": "code",
   "execution_count": null,
   "id": "d551a2b3-2587-4ae0-81ce-c0a16d66c9ef",
   "metadata": {},
   "outputs": [],
   "source": []
  }
 ],
 "metadata": {
  "kernelspec": {
   "display_name": "Python 3 (ipykernel)",
   "language": "python",
   "name": "python3"
  },
  "language_info": {
   "codemirror_mode": {
    "name": "ipython",
    "version": 3
   },
   "file_extension": ".py",
   "mimetype": "text/x-python",
   "name": "python",
   "nbconvert_exporter": "python",
   "pygments_lexer": "ipython3",
   "version": "3.11.7"
  }
 },
 "nbformat": 4,
 "nbformat_minor": 5
}
