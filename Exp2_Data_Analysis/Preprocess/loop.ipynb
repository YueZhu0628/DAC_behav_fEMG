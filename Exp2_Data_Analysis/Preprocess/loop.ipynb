{
 "cells": [
  {
   "cell_type": "code",
   "execution_count": null,
   "id": "37a22e44-0c48-40a8-8887-534525acbcb4",
   "metadata": {},
   "outputs": [],
   "source": [
    "# loop through all participants"
   ]
  },
  {
   "cell_type": "code",
   "execution_count": 1,
   "id": "4a4ae19c-6aef-4326-a47f-d810f528b004",
   "metadata": {},
   "outputs": [
    {
     "name": "stdout",
     "output_type": "stream",
     "text": [
      "Using dask. Scheduler: threads\n",
      "Please cite:\n",
      "Bizzego et al. (2019) 'pyphysio: A physiological signal processing library for data science approaches in physiology', SoftwareX\n"
     ]
    }
   ],
   "source": [
    "# import defined functions\n",
    "import os\n",
    "import numpy as np\n",
    "import pandas as pd\n",
    "from scipy import stats\n",
    "import matplotlib.pyplot as plt\n",
    "from constant import *\n",
    "import behavs\n",
    "import physios\n",
    "import ques"
   ]
  },
  {
   "cell_type": "code",
   "execution_count": null,
   "id": "9782ea5d-5682-4f9d-af43-b4741d0e7403",
   "metadata": {},
   "outputs": [],
   "source": []
  },
  {
   "cell_type": "code",
   "execution_count": 14,
   "id": "1d1d905f-0fbc-4abc-9c3f-cc0c05fbf4f6",
   "metadata": {},
   "outputs": [],
   "source": [
    "def comb(df_behs, df_phys, df_ques, phase_names=['Individual','Learning','TrueChoice','FalseChoice','Offlines','LearningCheck','DemandRating']):\n",
    "    df_combs = {}\n",
    "    for phase in phase_names:\n",
    "        if phase in ['Individual','LearningCheck', 'DemandRating']:\n",
    "            df_b_p = df_behs[phase]\n",
    "        else:\n",
    "            df_b_p = df_behs[phase].merge(df_phys[phase], on=\"TrialN\")\n",
    "        df_comb = df_b_p.merge(df_ques, on=\"PID\")\n",
    "        df_combs[phase] = df_comb\n",
    "    return df_combs"
   ]
  },
  {
   "cell_type": "code",
   "execution_count": 3,
   "id": "ecbd1ec8-b33d-46db-886b-3042939f8eac",
   "metadata": {},
   "outputs": [],
   "source": [
    "def conc(df_combs, phase_names=['Learning','TrueChoice','FalseChoice','Offlines']):\n",
    "    df_conc = pd.DataFrame()\n",
    "    for phase in phase_names:\n",
    "        df_conc = pd.concat(df_conc,df_combs[phase])\n",
    "    return df_conc"
   ]
  },
  {
   "cell_type": "code",
   "execution_count": null,
   "id": "c1f44a07-1a79-4fef-ad50-f2002b2be02d",
   "metadata": {},
   "outputs": [],
   "source": []
  },
  {
   "cell_type": "code",
   "execution_count": null,
   "id": "b8c32ed0-759e-438c-ab10-f5f80c55864c",
   "metadata": {},
   "outputs": [],
   "source": [
    "# walk through all participants' data folders\n",
    "# Define the root directory containing all participant folders\n",
    "root_dir = 'E:\\Dissertation\\Methods\\Exp2_Demand_Choice\\Analysis\\Exp2_data2'\n",
    "PIDS = os.listdir(root_dir)\n",
    "\n",
    "# Function to process each participant folder\n",
    "def extrac_participant_files(participant_folder):\n",
    "    # Construct the path to the \"Data\" subfolder\n",
    "    data_folder = os.path.join(participant_folder, 'Data')\n",
    "    Pfiles = {}\n",
    "    pfiles = {}\n",
    "    \n",
    "    # Check if the \"Data\" subfolder exists\n",
    "    if os.path.exists(data_folder):\n",
    "        # Construct the expected file names\n",
    "        pid = os.path.basename(participant_folder)\n",
    "        print(pid)\n",
    "        task_file = os.path.join(data_folder, pid + '_task.csv')\n",
    "        survey_file = os.path.join(data_folder, pid + '_survey.csv')\n",
    "        phy_file = os.path.join(data_folder, pid + '.txt')\n",
    "\n",
    "        # Check if the files exist and print their paths\n",
    "        for f in [task_file, survey_file, phy_file]:\n",
    "            if os.path.exists(f):\n",
    "                pass\n",
    "            else:\n",
    "                print(f\"{f} miss!\")\n",
    "                \n",
    "        pfiles['task'] = task_file\n",
    "        pfiles['survey'] = survey_file\n",
    "        pfiles['phy'] = phy_file\n",
    "\n",
    "    return pfiles\n",
    "\n",
    "\n",
    "\n",
    "# Walk through the root directory to find all participant folders\n",
    "PFILES = {}\n",
    "for participant_folder in os.listdir(root_dir):\n",
    "    participant_path = os.path.join(root_dir, participant_folder)\n",
    "    pid = os.path.basename(participant_folder)\n",
    "    if os.path.isdir(participant_path):  # Ensure it's a directory\n",
    "        pfiles = extrac_participant_files(participant_path)\n",
    "        PFILES[pid] = pfiles\n"
   ]
  },
  {
   "cell_type": "code",
   "execution_count": 5,
   "id": "d551a2b3-2587-4ae0-81ce-c0a16d66c9ef",
   "metadata": {},
   "outputs": [],
   "source": [
    "# PFILES"
   ]
  },
  {
   "cell_type": "code",
   "execution_count": null,
   "id": "6bee1ed0-1ada-47a0-bc4e-008b8e824b50",
   "metadata": {},
   "outputs": [],
   "source": [
    "PRES = {}\n",
    "COMBRES = pd.DataFrame()\n",
    "df_indi_all = pd.DataFrame()\n",
    "df_learning_all = pd.DataFrame()\n",
    "df_true_choice_all = pd.DataFrame()\n",
    "df_false_choice_all = pd.DataFrame()\n",
    "df_offlines_all = pd.DataFrame()\n",
    "df_learnging_check_all = pd.DataFrame()\n",
    "df_demandrating_all = pd.DataFrame()\n",
    "\n",
    "for pid in PIDS:\n",
    "    print('PID', pid)\n",
    "    f_t = PFILES[pid]['task']\n",
    "    df_behav_raw = behavs.load(f_t)\n",
    "    print(1)\n",
    "    df_behavs = behavs.phases(df_behav_raw)\n",
    "    print(2)\n",
    "    behavs.check_trial_n(df_behavs) != \"Trial Numbers Correct!\"\n",
    "    print(3)\n",
    "\n",
    "    f_p = PFILES[pid]['phy']\n",
    "    df_phy_raw = physios.load(f_p,triggers)\n",
    "    print(4)\n",
    "    df_physios_raw = physios.phases(df_phy_raw)\n",
    "    print(5)\n",
    "    df_physios = physios.clean_phases(df_physios_raw)\n",
    "    print(6)\n",
    "    df_physios_res = physios.compute_phases(df_physios, TRIALN)\n",
    "    df_physios_res_comb = {}\n",
    "    for phase in ['Learning','TrueChoice','FalseChoice','Offlines']:\n",
    "        df_physios_res_comb[phase] = df_physios_res[phase]['zyg'][['TrialN']]\n",
    "        for channel in ['zyg','cor','scr']:\n",
    "            df_physios_res1 = df_physios_res[phase][channel]\n",
    "            df_physios_res_comb[phase] = df_physios_res_comb[phase].merge(df_physios_res1, on='TrialN')\n",
    "    print(7)\n",
    "\n",
    "    f_q = PFILES[pid]['survey']\n",
    "    df_ques_raw = ques.load(f_q)\n",
    "    print(8)\n",
    "    df_ques_rev = ques.reverse_score(df_ques_raw, reverse_items, scales)\n",
    "    print(9)\n",
    "    df_ques_comp = ques.comp_scores(df_ques_rev)\n",
    "    print(10)\n",
    "\n",
    "    df_combs = comb(df_behavs, df_physios_res_comb, df_ques_comp)\n",
    "    df_indi_all = pd.concat([df_indi_all, df_combs['Individual']])\n",
    "    df_learning_all = pd.concat([df_learning_all, df_combs['Learning']])\n",
    "    df_true_choice_all = pd.concat([df_true_choice_all, df_combs['TrueChoice']])\n",
    "    df_false_choice_all = pd.concat([df_false_choice_all, df_combs['FalseChoice']])\n",
    "    df_learnging_check_all = pd.concat([df_learnging_check_all, df_combs['LearningCheck']])\n",
    "    df_demandrating_all = pd.concat([df_demandrating_all, df_combs['DemandRating']])\n",
    "    \n",
    "    PRES[pid] = df_combs"
   ]
  },
  {
   "cell_type": "markdown",
   "id": "77fa09c7-3f65-464d-81ce-ec8e370ac1d5",
   "metadata": {},
   "source": [
    "# Individual information"
   ]
  },
  {
   "cell_type": "code",
   "execution_count": null,
   "id": "5b278cb9-681d-4a2b-872c-5a52eb624415",
   "metadata": {},
   "outputs": [],
   "source": [
    "# age, gender, mapping"
   ]
  },
  {
   "cell_type": "code",
   "execution_count": 23,
   "id": "5027e503-8e40-401e-9502-93e53c914e46",
   "metadata": {},
   "outputs": [],
   "source": [
    "# ISI distribution]\n",
    "# plt.plot(df_indi_all['NFC'].values)"
   ]
  },
  {
   "cell_type": "code",
   "execution_count": null,
   "id": "0ef42801-5d3b-44bd-a99b-cec7d3845ed9",
   "metadata": {},
   "outputs": [],
   "source": []
  },
  {
   "cell_type": "markdown",
   "id": "bc4b7667-424e-407f-8b5d-c51cb3efe177",
   "metadata": {},
   "source": [
    "# Learning Phase"
   ]
  },
  {
   "cell_type": "code",
   "execution_count": null,
   "id": "7ad43084-c59b-4cd8-a3f4-662ed0c81176",
   "metadata": {},
   "outputs": [],
   "source": [
    "# Manipulatoin check (Task Performance)"
   ]
  },
  {
   "cell_type": "code",
   "execution_count": null,
   "id": "d03b1eec-c56f-4754-989b-5fb317463550",
   "metadata": {},
   "outputs": [],
   "source": []
  },
  {
   "cell_type": "code",
   "execution_count": null,
   "id": "7b78e916-d2ef-4a32-825f-aaa61ddcc6dd",
   "metadata": {},
   "outputs": [],
   "source": []
  },
  {
   "cell_type": "code",
   "execution_count": null,
   "id": "38f61b58-7fea-4c45-b751-ffedca4558e9",
   "metadata": {},
   "outputs": [],
   "source": []
  },
  {
   "cell_type": "code",
   "execution_count": null,
   "id": "7569193f-668e-48ef-8447-5e9b03e192c9",
   "metadata": {},
   "outputs": [],
   "source": []
  },
  {
   "cell_type": "code",
   "execution_count": 37,
   "id": "7fdf68a9-d9a6-47ad-9ef7-88c6aec6131c",
   "metadata": {},
   "outputs": [],
   "source": [
    "# standardize questionnaire scores after concatenate all participants df"
   ]
  },
  {
   "cell_type": "code",
   "execution_count": null,
   "id": "9d81f565-352a-4ea4-b150-386c430d08fe",
   "metadata": {},
   "outputs": [],
   "source": []
  }
 ],
 "metadata": {
  "kernelspec": {
   "display_name": "Python 3 (ipykernel)",
   "language": "python",
   "name": "python3"
  },
  "language_info": {
   "codemirror_mode": {
    "name": "ipython",
    "version": 3
   },
   "file_extension": ".py",
   "mimetype": "text/x-python",
   "name": "python",
   "nbconvert_exporter": "python",
   "pygments_lexer": "ipython3",
   "version": "3.11.7"
  }
 },
 "nbformat": 4,
 "nbformat_minor": 5
}
