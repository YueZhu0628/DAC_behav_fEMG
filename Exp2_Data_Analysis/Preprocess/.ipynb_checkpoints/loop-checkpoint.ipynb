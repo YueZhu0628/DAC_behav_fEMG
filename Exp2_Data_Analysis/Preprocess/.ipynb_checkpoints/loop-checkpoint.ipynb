{
 "cells": [
  {
   "cell_type": "code",
   "execution_count": null,
   "id": "37a22e44-0c48-40a8-8887-534525acbcb4",
   "metadata": {},
   "outputs": [],
   "source": [
    "# loop through all participants"
   ]
  },
  {
   "cell_type": "code",
   "execution_count": 51,
   "id": "4a4ae19c-6aef-4326-a47f-d810f528b004",
   "metadata": {},
   "outputs": [],
   "source": [
    "# import defined functions\n",
    "import os\n",
    "import numpy as np\n",
    "import pandas as pd\n",
    "from scipy import stats\n",
    "import matplotlib.pyplot as plt\n",
    "from constant import *\n",
    "import behavs\n",
    "import physios\n",
    "import ques"
   ]
  },
  {
   "cell_type": "code",
   "execution_count": null,
   "id": "ccc88e78-c1c7-4f50-a43d-0994cc163d84",
   "metadata": {},
   "outputs": [],
   "source": []
  },
  {
   "cell_type": "code",
   "execution_count": null,
   "id": "9782ea5d-5682-4f9d-af43-b4741d0e7403",
   "metadata": {},
   "outputs": [],
   "source": []
  },
  {
   "cell_type": "code",
   "execution_count": 41,
   "id": "1d1d905f-0fbc-4abc-9c3f-cc0c05fbf4f6",
   "metadata": {},
   "outputs": [],
   "source": [
    "def comb(df_behs, df_phys, df_ques, phase_names=['Learning','TrueChoice','FalseChoice','Offlines']):\n",
    "    df_combs = {}\n",
    "    for phase in phase_names:\n",
    "        df_b_p = df_beh[phase].merge(df_phy[phase], on=\"TrialN\")\n",
    "        df_comb = df_b_p.merge(df_ques, on=\"PID\")\n",
    "        df_combs[phase] = df_comb\n",
    "    return df_combs"
   ]
  },
  {
   "cell_type": "code",
   "execution_count": 42,
   "id": "ecbd1ec8-b33d-46db-886b-3042939f8eac",
   "metadata": {},
   "outputs": [],
   "source": [
    "def conc(df_combs, phase_names=['Learning','TrueChoice','FalseChoice','Offlines']):\n",
    "    df_conc = pd.DataFrame()\n",
    "    for phase in phase_names:\n",
    "        df_conc = pd.concat(df_conc,df_combs[phase])\n",
    "    return df_conc"
   ]
  },
  {
   "cell_type": "code",
   "execution_count": null,
   "id": "c1f44a07-1a79-4fef-ad50-f2002b2be02d",
   "metadata": {},
   "outputs": [],
   "source": []
  },
  {
   "cell_type": "code",
   "execution_count": 43,
   "id": "b8c32ed0-759e-438c-ab10-f5f80c55864c",
   "metadata": {},
   "outputs": [
    {
     "name": "stdout",
     "output_type": "stream",
     "text": [
      "007\n",
      "008\n"
     ]
    }
   ],
   "source": [
    "# walk through all participants' data folders\n",
    "# Define the root directory containing all participant folders\n",
    "root_dir = 'E:\\Dissertation\\Methods\\Exp2_Demand_Choice\\Analysis\\Exp2_data2'\n",
    "PIDS = os.listdir(root_dir)\n",
    "\n",
    "# Function to process each participant folder\n",
    "def extrac_participant_files(participant_folder):\n",
    "    # Construct the path to the \"Data\" subfolder\n",
    "    data_folder = os.path.join(participant_folder, 'Data')\n",
    "    Pfiles = {}\n",
    "    pfiles = {}\n",
    "    \n",
    "    # Check if the \"Data\" subfolder exists\n",
    "    if os.path.exists(data_folder):\n",
    "        # Construct the expected file names\n",
    "        pid = os.path.basename(participant_folder)\n",
    "        print(pid)\n",
    "        task_file = os.path.join(data_folder, pid + '_task.csv')\n",
    "        survey_file = os.path.join(data_folder, pid + '_survey.csv')\n",
    "        phy_file = os.path.join(data_folder, pid + '.txt')\n",
    "\n",
    "        # Check if the files exist and print their paths\n",
    "        for f in [task_file, survey_file, phy_file]:\n",
    "            if os.path.exists(f):\n",
    "                pass\n",
    "            else:\n",
    "                print(f\"{f} miss!\")\n",
    "                \n",
    "        pfiles['task'] = task_file\n",
    "        pfiles['survey'] = survey_file\n",
    "        pfiles['phy'] = phy_file\n",
    "\n",
    "    return pfiles\n",
    "\n",
    "\n",
    "\n",
    "# Walk through the root directory to find all participant folders\n",
    "PFILES = {}\n",
    "for participant_folder in os.listdir(root_dir):\n",
    "    participant_path = os.path.join(root_dir, participant_folder)\n",
    "    pid = os.path.basename(participant_folder)\n",
    "    if os.path.isdir(participant_path):  # Ensure it's a directory\n",
    "        pfiles = extrac_participant_files(participant_path)\n",
    "        PFILES[pid] = pfiles\n"
   ]
  },
  {
   "cell_type": "code",
   "execution_count": 44,
   "id": "d551a2b3-2587-4ae0-81ce-c0a16d66c9ef",
   "metadata": {},
   "outputs": [
    {
     "data": {
      "text/plain": [
       "{'007': {'task': 'E:\\\\Dissertation\\\\Methods\\\\Exp2_Demand_Choice\\\\Analysis\\\\Exp2_data2\\\\007\\\\Data\\\\007_task.csv',\n",
       "  'survey': 'E:\\\\Dissertation\\\\Methods\\\\Exp2_Demand_Choice\\\\Analysis\\\\Exp2_data2\\\\007\\\\Data\\\\007_survey.csv',\n",
       "  'phy': 'E:\\\\Dissertation\\\\Methods\\\\Exp2_Demand_Choice\\\\Analysis\\\\Exp2_data2\\\\007\\\\Data\\\\007.txt'},\n",
       " '008': {'task': 'E:\\\\Dissertation\\\\Methods\\\\Exp2_Demand_Choice\\\\Analysis\\\\Exp2_data2\\\\008\\\\Data\\\\008_task.csv',\n",
       "  'survey': 'E:\\\\Dissertation\\\\Methods\\\\Exp2_Demand_Choice\\\\Analysis\\\\Exp2_data2\\\\008\\\\Data\\\\008_survey.csv',\n",
       "  'phy': 'E:\\\\Dissertation\\\\Methods\\\\Exp2_Demand_Choice\\\\Analysis\\\\Exp2_data2\\\\008\\\\Data\\\\008.txt'}}"
      ]
     },
     "execution_count": 44,
     "metadata": {},
     "output_type": "execute_result"
    }
   ],
   "source": [
    "PFILES"
   ]
  },
  {
   "cell_type": "code",
   "execution_count": 52,
   "id": "6bee1ed0-1ada-47a0-bc4e-008b8e824b50",
   "metadata": {},
   "outputs": [
    {
     "name": "stdout",
     "output_type": "stream",
     "text": [
      "Correct!\n"
     ]
    },
    {
     "ename": "AttributeError",
     "evalue": "module 'physios' has no attribute 'load'",
     "output_type": "error",
     "traceback": [
      "\u001b[1;31m---------------------------------------------------------------------------\u001b[0m",
      "\u001b[1;31mAttributeError\u001b[0m                            Traceback (most recent call last)",
      "Cell \u001b[1;32mIn[52], line 19\u001b[0m\n\u001b[0;32m     16\u001b[0m     \u001b[38;5;28;01mbreak\u001b[39;00m\n\u001b[0;32m     18\u001b[0m f_p \u001b[38;5;241m=\u001b[39m PFILES[pid][\u001b[38;5;124m'\u001b[39m\u001b[38;5;124mphy\u001b[39m\u001b[38;5;124m'\u001b[39m]\n\u001b[1;32m---> 19\u001b[0m df_phy_raw \u001b[38;5;241m=\u001b[39m physios\u001b[38;5;241m.\u001b[39mload(f_p)\n\u001b[0;32m     20\u001b[0m df_physios_raw \u001b[38;5;241m=\u001b[39m physios\u001b[38;5;241m.\u001b[39mphases(df_phy_raw)\n\u001b[0;32m     21\u001b[0m df_physios \u001b[38;5;241m=\u001b[39m physios\u001b[38;5;241m.\u001b[39mclean_phases(df_physios_raw)\n",
      "\u001b[1;31mAttributeError\u001b[0m: module 'physios' has no attribute 'load'"
     ]
    }
   ],
   "source": [
    "PRES = {}\n",
    "COMBRES = pd.DataFrame()\n",
    "df_indi_all = pd.DataFrame()\n",
    "df_learning_all = pd.DataFrame()\n",
    "df_true_choice_all = pd.DataFrame()\n",
    "df_false_choice_all = pd.DataFrame()\n",
    "df_offlines_all = pd.DataFrame()\n",
    "df_learnging_check_all = pd.DataFrame()\n",
    "df_demandrating_all = pd.DataFrame()\n",
    "\n",
    "for pid in PIDS:\n",
    "    f_t = PFILES[pid]['task']\n",
    "    df_behav_raw = behavs.load(f_t)\n",
    "    df_behavs = behavs.phases(df_behav_raw)\n",
    "    if behavs.check_trial_n(df_behavs):\n",
    "        break\n",
    "\n",
    "    f_p = PFILES[pid]['phy']\n",
    "    df_phy_raw = physios.load(f_p)\n",
    "    df_physios_raw = physios.phases(df_phy_raw)\n",
    "    df_physios = physios.clean_phases(df_physios_raw)\n",
    "    df_physios_res = physios.compute_phases(df_physios)\n",
    "\n",
    "    f_q = PFILES[pid]['survey']\n",
    "    df_ques_raw = ques.load(f_q)\n",
    "    df_ques_rev = reverse_score(df, reverse_items, scales)\n",
    "    df_ques_comp = comp_scores(df_ques_comp)\n",
    "\n",
    "    df_combs = comb(df_behavs, df_physios_res, df_ques_comp)\n",
    "    df_indi_all = pd.concat(df_indi_all, df_combs['Individual'])\n",
    "    df_learning_all = pd.concat(df_learning_all, df_combs['Learning'])\n",
    "    df_true_choice_all = pd.concat(df_true_choice_all, df_combs['TrueChoice'])\n",
    "    df_false_choice_all = pd.concat(df_false_choice_all, df_combs['FalseChoice'])\n",
    "    df_learnging_check_all = pd.concat(df_learnging_check_all, df_combs['LearningCheck'])\n",
    "    df_demandrating_all = pd.concat(df_demandrating_all, df_combs['DemandRating'])\n",
    "    \n",
    "    PRES[pid] = df_combs"
   ]
  },
  {
   "cell_type": "code",
   "execution_count": null,
   "id": "73aef6e0-722b-4136-9e6a-8f63b65407c7",
   "metadata": {},
   "outputs": [],
   "source": []
  },
  {
   "cell_type": "markdown",
   "id": "77fa09c7-3f65-464d-81ce-ec8e370ac1d5",
   "metadata": {},
   "source": [
    "# Individual information"
   ]
  },
  {
   "cell_type": "code",
   "execution_count": null,
   "id": "5b278cb9-681d-4a2b-872c-5a52eb624415",
   "metadata": {},
   "outputs": [],
   "source": [
    "# age, gender, mapping"
   ]
  },
  {
   "cell_type": "code",
   "execution_count": null,
   "id": "5027e503-8e40-401e-9502-93e53c914e46",
   "metadata": {},
   "outputs": [],
   "source": [
    "# ISI distribution]\n",
    "plt.plot(df_indi_all['ISI'])"
   ]
  },
  {
   "cell_type": "code",
   "execution_count": null,
   "id": "0ef42801-5d3b-44bd-a99b-cec7d3845ed9",
   "metadata": {},
   "outputs": [],
   "source": []
  },
  {
   "cell_type": "markdown",
   "id": "bc4b7667-424e-407f-8b5d-c51cb3efe177",
   "metadata": {},
   "source": [
    "# Learning Phase"
   ]
  },
  {
   "cell_type": "code",
   "execution_count": null,
   "id": "7ad43084-c59b-4cd8-a3f4-662ed0c81176",
   "metadata": {},
   "outputs": [],
   "source": [
    "# Manipulatoin check (Task Performance)"
   ]
  },
  {
   "cell_type": "code",
   "execution_count": null,
   "id": "d03b1eec-c56f-4754-989b-5fb317463550",
   "metadata": {},
   "outputs": [],
   "source": []
  },
  {
   "cell_type": "code",
   "execution_count": null,
   "id": "7b78e916-d2ef-4a32-825f-aaa61ddcc6dd",
   "metadata": {},
   "outputs": [],
   "source": []
  },
  {
   "cell_type": "code",
   "execution_count": null,
   "id": "38f61b58-7fea-4c45-b751-ffedca4558e9",
   "metadata": {},
   "outputs": [],
   "source": []
  },
  {
   "cell_type": "code",
   "execution_count": null,
   "id": "7569193f-668e-48ef-8447-5e9b03e192c9",
   "metadata": {},
   "outputs": [],
   "source": []
  },
  {
   "cell_type": "code",
   "execution_count": 37,
   "id": "7fdf68a9-d9a6-47ad-9ef7-88c6aec6131c",
   "metadata": {},
   "outputs": [],
   "source": [
    "# standardize questionnaire scores after concatenate all participants df"
   ]
  },
  {
   "cell_type": "code",
   "execution_count": null,
   "id": "9d81f565-352a-4ea4-b150-386c430d08fe",
   "metadata": {},
   "outputs": [],
   "source": []
  }
 ],
 "metadata": {
  "kernelspec": {
   "display_name": "Python 3 (ipykernel)",
   "language": "python",
   "name": "python3"
  },
  "language_info": {
   "codemirror_mode": {
    "name": "ipython",
    "version": 3
   },
   "file_extension": ".py",
   "mimetype": "text/x-python",
   "name": "python",
   "nbconvert_exporter": "python",
   "pygments_lexer": "ipython3",
   "version": "3.11.7"
  }
 },
 "nbformat": 4,
 "nbformat_minor": 5
}
