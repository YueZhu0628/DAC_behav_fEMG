{
 "cells": [
  {
   "cell_type": "code",
   "execution_count": null,
   "id": "69b9ff6e-1d40-44b3-986b-761320c0b7e0",
   "metadata": {},
   "outputs": [],
   "source": [
    "import pandas as pd"
   ]
  },
  {
   "cell_type": "code",
   "execution_count": null,
   "id": "73a981e9-3f5f-49ff-8ff2-62335024e623",
   "metadata": {},
   "outputs": [],
   "source": [
    "# manually delete the blank rows and the 4th column in \"DACFE_trigger.csv\" file\n",
    "triggers = pd.read_csv('DACFE_trigger.csv', header=0)\n",
    "triggers[\"Binary\"] = triggers[\"Binary\"].astype(int) * 5\n",
    "triggers[\"binary\"] = triggers[\"Binary\"].astype(str).str.zfill(8)\n",
    "for i in range(triggers.shape[0]):\n",
    "    triggers.loc[i,\"binary\"] = triggers.loc[i, \"binary\"][::-1]  # start, stop, stepsize = -1"
   ]
  },
  {
   "cell_type": "code",
   "execution_count": null,
   "id": "2a5c540a-e5a7-4c1d-b77e-20bdfa9a05df",
   "metadata": {},
   "outputs": [],
   "source": [
    "# physio signal filter parameters\n",
    "SAMPLE_RATE = 1_000"
   ]
  },
  {
   "cell_type": "code",
   "execution_count": null,
   "id": "6e1f908f-daa2-44db-b141-d8bf97847ded",
   "metadata": {},
   "outputs": [],
   "source": [
    "# trial numbers of each phase\n",
    "TRIALN = {'Learning':50, 'TrueChoice':10, 'FalseChoice': 50, 'Offlines':8}"
   ]
  },
  {
   "cell_type": "code",
   "execution_count": null,
   "id": "7035d5b2-f43d-46e1-b1f9-20dea110dd7e",
   "metadata": {},
   "outputs": [],
   "source": []
  },
  {
   "cell_type": "code",
   "execution_count": null,
   "id": "6345cdbb-95c7-4f99-9858-317694f7efae",
   "metadata": {},
   "outputs": [],
   "source": [
    "# reverse-score items\n",
    "reverse_items = [\n",
    "    # BAI \n",
    "    \"BAI2_bis\", \"BAI22_bis\",\n",
    "    # NFC\n",
    "    \"NFC3\", \"NFC4\", \"NFC5\", \"NFC7\", \"NFC8\", \"NFC9\", \"NFC12\", \"NFC16\", \"NFC17\",\n",
    "    # BFI\n",
    "    \"BFI2_agr\", \"BFI6_ext\", \"BFI12_agr\", \"BFI18_con\", \"BFI21_ext\",\n",
    "    \"BFI23_con\", \"BFI24_neu\", \"BFI27_agr\", \"BFI31_ext\", \"BFI34_neu\",\n",
    "    \"BFI35_open\", \"BFI37_agr\", \"BFI41_open\", \"BFI43_con\", \n",
    "    # UPPS\n",
    "    \"UPPS1_lps\", \"UPPS4_lps\", \"UPPS5_lpm\", \"UPPS7_lps\", \"UPPS12_lpm\", \"UPPS19_lpm\"   \n",
    "]"
   ]
  },
  {
   "cell_type": "code",
   "execution_count": null,
   "id": "f9465226-6686-4dfb-beb9-40b3e50671cf",
   "metadata": {},
   "outputs": [],
   "source": [
    "# scales of items\n",
    "scales = {'BAI':4,'NFC':5,'BFI':5,'UPP':4}"
   ]
  }
 ],
 "metadata": {
  "kernelspec": {
   "display_name": "Python 3 (ipykernel)",
   "language": "python",
   "name": "python3"
  },
  "language_info": {
   "codemirror_mode": {
    "name": "ipython",
    "version": 3
   },
   "file_extension": ".py",
   "mimetype": "text/x-python",
   "name": "python",
   "nbconvert_exporter": "python",
   "pygments_lexer": "ipython3",
   "version": "3.11.7"
  }
 },
 "nbformat": 4,
 "nbformat_minor": 5
}
