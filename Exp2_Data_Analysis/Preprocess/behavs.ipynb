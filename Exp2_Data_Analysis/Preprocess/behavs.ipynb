{
 "cells": [
  {
   "cell_type": "code",
   "execution_count": null,
   "id": "23784486-2216-41bb-8e94-c18fe0746572",
   "metadata": {},
   "outputs": [],
   "source": [
    "# to prepross behavioral data file"
   ]
  },
  {
   "cell_type": "code",
   "execution_count": 1,
   "id": "22be3ab9-d3f3-47be-aa60-62b545ef990a",
   "metadata": {},
   "outputs": [],
   "source": [
    "import numpy as np\n",
    "import pandas as pd\n",
    "from scipy import stats\n",
    "import matplotlib.pyplot as plt"
   ]
  },
  {
   "cell_type": "code",
   "execution_count": 2,
   "id": "d9155882-c68a-48ac-8ae9-56133f0d71b7",
   "metadata": {},
   "outputs": [],
   "source": [
    "# load data\n",
    "def load(datafile):\n",
    "    col_names = [\"PID\",\"Age\",\"Gender\",\"Phase\",\"Block\", \"TrialN\", \"NbackLevel\", \"ISI\", \n",
    "                 # Calibration Info\n",
    "                   \"TrialCountCali\", \"CaliEnd_A_measure\", \"ISI_calibrated\",\n",
    "                 # Trial Info\n",
    "                 \"TrialIndex\", \"TrialNumber_total\", \"TrialNumber_valid\",\n",
    "                 # Trial Performance\n",
    "                 \"Trial_A_measure\",\n",
    "                 \"Trial_ACC\",\"Trial_RT\",\n",
    "                 \"Letter_Resp\", \"Letter_RT\", \"Letter_Accuracy\",\n",
    "                 # Learning Phase \n",
    "                 \"CueLearning\", \"CueMapping\", \"TrialDemandLearning\",\n",
    "                 # True & False choice\n",
    "                 \"CueLeft\", \"CueDemandLeft\",\n",
    "                 \"CueRight\", \"CueDemandRight\",\n",
    "                 \"PhaseType\",\n",
    "                 \"Choice\", \"ChoiceRT\",\n",
    "                 \"ChoiceDemand\", \"TaskDemand\",\n",
    "                 # Offline Rating T1, T2, T3\n",
    "                 \"OfflineRatingTimePoint\",\n",
    "                 \"CueFigure\", \"TrialDemand\",\n",
    "                 \"OfflineRating\", \"OfflineRatingRT\",\n",
    "                 # Learning check\n",
    "                 \"CueCheck\", \"CueDemandCheck\", \"CorrectAnswer\",\n",
    "                 \"Answer\", \"AnswerDemand\", \"AnswerRT\", \"AnswerACC\",\n",
    "                 # Demand Rating\n",
    "                 \"DemandRatingQuesIndex\", \"QuesTLX\", \"DemandLevel\", \n",
    "                 \"DemandRating\", \"DemandRatingRT\", \n",
    "                 # End\n",
    "                 \"END\"]\n",
    "    df = pd.read_csv(datafile, header=0, index_col=False, usecols=col_names)\n",
    "    df.loc[df['Phase']=='OFFLINERATING',['TrialN']] = list(range(1,9))\n",
    "    df['TrialN'] = df['TrialN'].fillna(-1).astype(int)\n",
    "    return df"
   ]
  },
  {
   "cell_type": "code",
   "execution_count": 32,
   "id": "c575854f-6c75-402a-ba69-ee03a2e84490",
   "metadata": {},
   "outputs": [],
   "source": [
    "# separate phases\n",
    "def phases(df):\n",
    "    def comb_trial_perf(df, phase, cols=[\"Trial_A_measure\",\"Trial_ACC\",\"Trial_RT\"]):\n",
    "        df_ct = df.copy()\n",
    "        for col_t in cols:\n",
    "            col = f'Task{col_t.replace(\"Trial\",\"\")}'\n",
    "            df_ct[col] = df_ct[col_t].shift(1)\n",
    "            df_ct_s = df_ct.loc[df_ct['Phase']==phase].sort_values('TrialN')      \n",
    "        return df_ct_s\n",
    "    df_indi = df[(df['Phase']==\"PRACTICE\") & (df['TrialN']==1)].copy()\n",
    "    df_learnings = df[df['Phase'].isin([\"LEARNING\",\"Learning\"])].copy()\n",
    "    df_choices = df[df['Phase'].isin([\"TrueCHOICE\",\"FalseCHOICE\",\"Choice\"])]\n",
    "    df_learning = comb_trial_perf(df_learnings,\"LEARNING\")\n",
    "    df_choice_true = comb_trial_perf(df_choices,\"TrueCHOICE\")\n",
    "    df_choice_false = comb_trial_perf(df_choices,\"FalseCHOICE\")\n",
    "    \n",
    "    df_offlines = df[df['Phase'] == \"OFFLINERATING\"].copy()\n",
    "    df_learning_checks = df[df['Phase'] == \"LEARNINGCHECK\"].copy()\n",
    "    df_demand_ratings = df[df['Phase'] == \"DEMANDRATING\"].copy().sort_values('DemandRatingQuesIndex')\n",
    "    \n",
    "    # return a dict of dfs\n",
    "    df_behavs = {'Individual':df_indi,\n",
    "                 'Learning':df_learning, 'TrueChoice':df_choice_true, 'FalseChoice':df_choice_false, 'Offlines':df_offlines,\n",
    "                'LearningCheck':df_learning_checks, 'DemandRating':df_demand_ratings}\n",
    "    stand_rt(df_behavs)\n",
    "    stand_rating(df_behavs)\n",
    "    return df_behavs"
   ]
  },
  {
   "cell_type": "code",
   "execution_count": 4,
   "id": "a1056472-6389-4d31-ae02-bb756d5c3e61",
   "metadata": {},
   "outputs": [],
   "source": [
    "# check for trial numbers\n",
    "def check_trial_n(df_behavs):\n",
    "    phase_names = ['Learning','TrueChoice','FalseChoice','Offlines']\n",
    "    ns = []\n",
    "    for phase in phase_names:\n",
    "        pn = df_behavs[phase].shape[0]\n",
    "        ns.append(pn)\n",
    "    if ns == [50,10,50,8]:\n",
    "        print(\"Trial Numbers Correct!\")\n",
    "    else:\n",
    "        print(\"Error!\", phase, ns)"
   ]
  },
  {
   "cell_type": "code",
   "execution_count": 5,
   "id": "96024f06-ae1c-44ba-9a09-a6013cacdfba",
   "metadata": {},
   "outputs": [],
   "source": [
    "# check for whether learned the association\n",
    "def check_learn(df_behavs):\n",
    "    df = df_behavs['LearningCheck']\n",
    "    pid = df['PID']\n",
    "    df_check = df[['CueDemandCheck','CorrectAnswer','AnswerDemand','AnswerACC']]\n",
    "    learn = df_check.loc[df_check['CorrectAnswer'].isin([\"Left\",\"Right\"]),'AnswerACC'].mean(axis=0)\n",
    "    delearn = df_check.loc[df_check['CorrectAnswer']==\"Middle\",'AnswerACC'].mean(axis=0)\n",
    "    if (learn == 1) & (delearn == 1):\n",
    "        pass\n",
    "        # print(\"Learned well!\")\n",
    "    elif (learn == 1) & (delearn != 1):\n",
    "        print(pid, \"Learned well! Not De-Learned!\")\n",
    "    elif (learn != 1) & (delearn == 1):\n",
    "        print(pid, \"Not Learned! De-Learned well!\")\n",
    "    else:\n",
    "        print(pid, \"Fail both!\")"
   ]
  },
  {
   "cell_type": "code",
   "execution_count": 6,
   "id": "c683cc66-e999-4e30-b06a-0e35be0cc853",
   "metadata": {},
   "outputs": [],
   "source": [
    "# standardize values\n",
    "def stand_rt(df_behavs):\n",
    "    for phase in ['Learning','TrueChoice','FalseChoice']:\n",
    "        df = df_behavs[phase]\n",
    "        df['Task_RT_z'] = stats.zscore(df['Task_RT'],nan_policy='omit')\n",
    "        df['Task_RT_log'] = np.log(df['Task_RT'])\n",
    "        df['Task_RT_log_z'] = stats.zscore(df['Task_RT_log'],nan_policy='omit')"
   ]
  },
  {
   "cell_type": "code",
   "execution_count": 7,
   "id": "004036c5-eab2-4535-be4a-c4239d3d26d5",
   "metadata": {},
   "outputs": [],
   "source": [
    "# standardize values\n",
    "def stand_rating(df_behavs):\n",
    "    for phase in ['Offlines','DemandRating']:\n",
    "        df = df_behavs[phase]\n",
    "        if phase == 'Offlines':\n",
    "            col = 'OfflineRating'\n",
    "        else:\n",
    "            col = 'DemandRating'\n",
    "        df[f'{col}_z'] = stats.zscore(df[col],nan_policy='omit')"
   ]
  },
  {
   "cell_type": "code",
   "execution_count": null,
   "id": "9a4dbe70-0833-41af-84e0-92940f8b921a",
   "metadata": {},
   "outputs": [],
   "source": []
  },
  {
   "cell_type": "code",
   "execution_count": 34,
   "id": "eb1c2c57-0cd6-43cf-a24c-31942c026144",
   "metadata": {},
   "outputs": [],
   "source": [
    "# datafile = \"/Users/yolo/Documents/Coding/fEMG/DACFE_45/007/Data/007_task.csv\"\n",
    "# df = load(datafile)\n",
    "# df_behavs = phases(df)\n",
    "# df_behavs['FalseChoice']"
   ]
  },
  {
   "cell_type": "code",
   "execution_count": null,
   "id": "b7dcbacf-61d4-446f-8872-b82a56a0873a",
   "metadata": {},
   "outputs": [],
   "source": []
  },
  {
   "cell_type": "code",
   "execution_count": 135,
   "id": "0cca65bb-82cc-402d-b986-99c39dc4fb23",
   "metadata": {},
   "outputs": [],
   "source": [
    "# df_behavs['Individual'][['PID','Age','Gender','ISI', 'CueMapping']]\n",
    "# stand_rt(df_behavs)\n",
    "# df_behavs['Learning'][['Trial_RT','Trial_RT_z','Trial_RT_log','Trial_RT_log_z']]\n",
    "# stand_rating(df_behavs)\n",
    "# df_behavs['Offlines']['OfflineRating_z']\n",
    "# df_behavs['DemandRating'][['DemandLevel','DemandRating_z']]"
   ]
  },
  {
   "cell_type": "code",
   "execution_count": null,
   "id": "b46e4779-d8ad-4b59-bc79-04884515872c",
   "metadata": {},
   "outputs": [],
   "source": []
  },
  {
   "cell_type": "code",
   "execution_count": null,
   "id": "c7c381b8-f24c-46ea-83a5-b886818dcc5d",
   "metadata": {},
   "outputs": [],
   "source": []
  }
 ],
 "metadata": {
  "kernelspec": {
   "display_name": "Python 3 (ipykernel)",
   "language": "python",
   "name": "python3"
  },
  "language_info": {
   "codemirror_mode": {
    "name": "ipython",
    "version": 3
   },
   "file_extension": ".py",
   "mimetype": "text/x-python",
   "name": "python",
   "nbconvert_exporter": "python",
   "pygments_lexer": "ipython3",
   "version": "3.11.7"
  }
 },
 "nbformat": 4,
 "nbformat_minor": 5
}
