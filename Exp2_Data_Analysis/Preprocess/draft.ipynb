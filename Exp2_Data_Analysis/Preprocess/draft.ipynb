{
 "cells": [
  {
   "cell_type": "code",
   "execution_count": 1,
   "id": "0e360c5a-df7c-4530-ad44-c9db0e20fd77",
   "metadata": {},
   "outputs": [
    {
     "name": "stdout",
     "output_type": "stream",
     "text": [
      "Using dask. Scheduler: threads\n",
      "Please cite:\n",
      "Bizzego et al. (2019) 'pyphysio: A physiological signal processing library for data science approaches in physiology', SoftwareX\n"
     ]
    }
   ],
   "source": [
    "# %preprocess physiological data files%\n",
    "# compute values of zyg, cog, scr for each trigger in each trial\n",
    "# combine physiological values to behavioral data file (one row per trial)\n",
    "# coding=utf-8\n",
    "\n",
    "import numpy as np\n",
    "import pandas as pd\n",
    "import matplotlib.pyplot as plt\n",
    "from scipy.stats import zscore\n",
    "from pyphysio.pyphysio import signal, filters, segmenters, interactive\n",
    "from pyphysio.pyphysio.specialized.eda import DriverEstim, PhasicEstim, preset_phasic\n",
    "from pyphysio.pyphysio.specialized.emg._presets import preset_femg"
   ]
  },
  {
   "cell_type": "code",
   "execution_count": null,
   "id": "1da42979-0f82-43e2-a1e1-0bbe6c1c725a",
   "metadata": {},
   "outputs": [],
   "source": [
    "### constant.py file ###\n",
    "# manually delete the blank rows and the 4th column in \"DACFE_trigger.csv\" file\n",
    "triggers = pd.read_csv('DACFE_trigger.csv', header=0)\n",
    "triggers[\"Binary\"] = triggers[\"Binary\"].astype(int) * 5\n",
    "triggers[\"binary\"] = triggers[\"Binary\"].astype(str).str.zfill(8)\n",
    "for i in range(triggers.shape[0]):\n",
    "    triggers.loc[i,\"binary\"] = triggers.loc[i, \"binary\"][::-1]  # start, stop, stepsize = -1"
   ]
  },
  {
   "cell_type": "code",
   "execution_count": null,
   "id": "ff778f82-5450-475d-be01-573d734bf086",
   "metadata": {},
   "outputs": [],
   "source": [
    "# would be assigned in loop.py file\n",
    "datafile = \"E:\\Dissertation\\Methods\\Exp2_Demand_Choice\\Analysis\\Exp2_data2\\\\007\\Data\\\\007.txt\""
   ]
  },
  {
   "cell_type": "code",
   "execution_count": null,
   "id": "2e8a3d2e-974d-46bf-a239-fce3ee6c5dd2",
   "metadata": {},
   "outputs": [],
   "source": [
    "### physios.py file ###\n",
    "# load data\n",
    "col_names = [\"zyg\",\"scr\",\"cor\",\"trg1\",\"trg2\",\"trg3\",\"trg4\",\"trg5\",\"trg6\",\"trg7\",\"trg8\",\"na\"]\n",
    "data = pd.read_csv(datafile, sep='\\t', names = col_names, index_col=False)\n",
    "data['line'] = np.array(list(np.linspace(0, data.shape[0]-1, data.shape[0])), int)\n",
    "data[\"binary\"] = data.trg1.astype(str) + data.trg2.astype(str) + data.trg3.astype(str) + \\\n",
    "data.trg4.astype(str) + data.trg5.astype(str) + data.trg6.astype(str) + \\\n",
    "data.trg7.astype(str) + data.trg8.astype(str)"
   ]
  },
  {
   "cell_type": "code",
   "execution_count": null,
   "id": "9be99988-61d3-449b-81ac-889456112514",
   "metadata": {},
   "outputs": [],
   "source": [
    "### physios.py file ###\n",
    "df = data.merge(triggers, on=\"binary\").drop([\"Binary\"], axis=1).sort_values(by='line')"
   ]
  },
  {
   "cell_type": "code",
   "execution_count": null,
   "id": "c39dcc1b-0f23-4105-997b-d87390e2d31f",
   "metadata": {},
   "outputs": [],
   "source": [
    "# df"
   ]
  },
  {
   "cell_type": "code",
   "execution_count": null,
   "id": "4c112c57-cb5a-499c-b5bc-64fdba25289c",
   "metadata": {},
   "outputs": [],
   "source": [
    "def phases(df,):\n",
    "    df['Phase'] = ''\n",
    "    line_idxs = {}\n",
    "    phase_names = list(triggers['TriggerName'][triggers['TriggerName'].str.endswith((\"Start\", \"End\"))])\n",
    "    for phase in phase_names:\n",
    "        line_i = np.where(df['TriggerName']== phase)[0][0]\n",
    "        line_n = df.line.iloc[line_i]\n",
    "        line_idxs[phase]=line_n\n",
    "    # Practice Start\n",
    "    df.loc[df.line.isin(range(line_idxs['prac2BackStart'],line_idxs['caliStart'])),'Phase'] = \"Practice2Back\"\n",
    "    df.loc[df.line.isin(range(line_idxs['caliStart'],line_idxs['prac1BackStart'])),'Phase'] = \"Calibration\"\n",
    "    df.loc[df.line.isin(range(line_idxs['prac1BackStart'],line_idxs['prac3BackStart'])),'Phase'] = \"Practice1Back\"\n",
    "    df.loc[df.line.isin(range(line_idxs['prac3BackStart'],line_idxs['testStart'])),'Phase'] = \"Practice3Back\"\n",
    "    # Test Start\n",
    "    df.loc[df.line.isin(range(line_idxs['offlineT0Start'],line_idxs['learningStart'])),'Phase'] = \"OfflineRatingT0\"\n",
    "    df.loc[df.line.isin(range(line_idxs['learningStart'],line_idxs['offlineT1Start'])),'Phase'] = \"Learning\"\n",
    "    df.loc[df.line.isin(range(line_idxs['offlineT1Start'],line_idxs['trueChoiceStart'])),'Phase'] = \"OfflineRatingT1\"\n",
    "    df.loc[df.line.isin(range(line_idxs['trueChoiceStart'],line_idxs['offlineT2Start'])),'Phase'] = \"TrueChoice\"\n",
    "    \n",
    "    df.loc[df.line.isin(range(line_idxs['offlineT2Start'],line_idxs['learningCheckT1Start'])),'Phase'] = \"OfflineRatingT2\"\n",
    "    df.loc[df.line.isin(range(line_idxs['learningCheckT1Start'],line_idxs['falseChoiceStart'])),'Phase'] = \"LearningCheckT1\"\n",
    "    df.loc[df.line.isin(range(line_idxs['falseChoiceStart'],line_idxs['offlineT3Start'])),'Phase'] = \"FalseChoice\"\n",
    "    df.loc[df.line.isin(range(line_idxs['offlineT3Start'],line_idxs['learningCheckT2Start'])),'Phase'] = \"OfflineRatingT3\"\n",
    "    df.loc[df.line.isin(range(line_idxs['learningCheckT2Start'],line_idxs['demandRatingStart'])),'Phase'] = \"LearningCheckT2\"\n",
    "    # Demand Manipulation Check\n",
    "    df.loc[df.line.isin(range(line_idxs['demandRatingStart'],line_idxs['expEnd'])),'Phase'] = \"DemandRating\"\n",
    "    # separate phases\n",
    "    df_learning = df[df['Phase'] == \"Learning\"].copy().sort_values('line')\n",
    "    df_true_choice = df[df['Phase'] == \"TrueChoice\"].copy().sort_values('line')\n",
    "    df_false_choice = df[df['Phase'] == \"FalseChoice\"].copy().sort_values('line')\n",
    "    df_offlines = df[df['Phase'].str.startswith(\"OfflineRating\")].copy().sort_values('line')\n",
    "    df_learning_checks = df[df['Phase'].str.startswith(\"LearningCheck\")].copy().sort_values('line')\n",
    "    df_demand_ratings = df[df['Phase'] == \"DemandRating\"].copy().sort_values('line')\n",
    "    # combine into a dict\n",
    "    df_physios_raw = {'Learning':df_learning, 'TrueChoice':df_true_choice, 'FalseChoice':df_false_choice, 'Offlines':df_offlines,\n",
    "                     'LearningCheck':df_learning_checks, 'DemandRating':df_demand_ratings}\n",
    "    return df_physios_raw"
   ]
  },
  {
   "cell_type": "code",
   "execution_count": null,
   "id": "f644e7ed-a7dd-45f6-a5d8-0b1bf89fcbc5",
   "metadata": {},
   "outputs": [],
   "source": [
    "### physios.py file ###\n",
    "phase_names = list(triggers['TriggerName'][triggers['TriggerName'].str.endswith((\"Start\", \"End\"))])\n",
    "# phase_names"
   ]
  },
  {
   "cell_type": "code",
   "execution_count": null,
   "id": "90df18ce-85d6-48e2-a760-27b00a029199",
   "metadata": {},
   "outputs": [],
   "source": [
    "### physios.py file ###\n",
    "df['Phase'] = ''\n",
    "line_idxs = {}\n",
    "for phase in phase_names:\n",
    "    line_i = np.where(df['TriggerName']== phase)[0][0]\n",
    "    line_n = df.line.iloc[line_i]\n",
    "#     print(phase, line_i)\n",
    "    line_idxs[phase]=line_n\n",
    "# line_idxs"
   ]
  },
  {
   "cell_type": "code",
   "execution_count": null,
   "id": "24cf8b6c-3bac-4855-acef-b4c4bbfad48b",
   "metadata": {},
   "outputs": [],
   "source": [
    "### physios.py file ###\n",
    "# Practice Start\n",
    "df.loc[df.line.isin(range(line_idxs['prac2BackStart'],line_idxs['caliStart'])),'Phase'] = \"Practice2Back\"\n",
    "df.loc[df.line.isin(range(line_idxs['caliStart'],line_idxs['prac1BackStart'])),'Phase'] = \"Calibration\"\n",
    "df.loc[df.line.isin(range(line_idxs['prac1BackStart'],line_idxs['prac3BackStart'])),'Phase'] = \"Practice1Back\"\n",
    "df.loc[df.line.isin(range(line_idxs['prac3BackStart'],line_idxs['testStart'])),'Phase'] = \"Practice3Back\"\n",
    "# Test Start\n",
    "df.loc[df.line.isin(range(line_idxs['offlineT0Start'],line_idxs['learningStart'])),'Phase'] = \"OfflineRatingT0\"\n",
    "df.loc[df.line.isin(range(line_idxs['learningStart'],line_idxs['offlineT1Start'])),'Phase'] = \"Learning\"\n",
    "df.loc[df.line.isin(range(line_idxs['offlineT1Start'],line_idxs['trueChoiceStart'])),'Phase'] = \"OfflineRatingT1\"\n",
    "df.loc[df.line.isin(range(line_idxs['trueChoiceStart'],line_idxs['offlineT2Start'])),'Phase'] = \"TrueChoice\"\n",
    "\n",
    "df.loc[df.line.isin(range(line_idxs['offlineT2Start'],line_idxs['learningCheckT1Start'])),'Phase'] = \"OfflineRatingT2\"\n",
    "df.loc[df.line.isin(range(line_idxs['learningCheckT1Start'],line_idxs['falseChoiceStart'])),'Phase'] = \"LearningCheckT1\"\n",
    "df.loc[df.line.isin(range(line_idxs['falseChoiceStart'],line_idxs['offlineT3Start'])),'Phase'] = \"FalseChoice\"\n",
    "df.loc[df.line.isin(range(line_idxs['offlineT3Start'],line_idxs['learningCheckT2Start'])),'Phase'] = \"OfflineRatingT3\"\n",
    "df.loc[df.line.isin(range(line_idxs['learningCheckT2Start'],line_idxs['demandRatingStart'])),'Phase'] = \"LearningCheckT2\"\n",
    "# Demand Manipulation Check\n",
    "df.loc[df.line.isin(range(line_idxs['demandRatingStart'],line_idxs['expEnd'])),'Phase'] = \"DemandRating\""
   ]
  },
  {
   "cell_type": "code",
   "execution_count": null,
   "id": "022d21df-5363-4acb-9e02-1afb62dd2a4c",
   "metadata": {},
   "outputs": [],
   "source": [
    "### physios.py file ###\n",
    "# separate phases\n",
    "df_learning = df[df['Phase'] == \"Learning\"].copy().sort_values('line')\n",
    "df_true_choice = df[df['Phase'] == \"TrueChoice\"].copy().sort_values('line')\n",
    "df_false_choice = df[df['Phase'] == \"FalseChoice\"].copy().sort_values('line')\n",
    "df_offlines = df[df['Phase'].str.startswith(\"OfflineRating\")].copy().sort_values('line')\n",
    "df_learning_checks = df[df['Phase'].str.startswith(\"LearningCheck\")].copy().sort_values('line')\n",
    "df_demand_ratings = df[df['Phase'] == \"DemandRating\"].copy().sort_values('line')"
   ]
  },
  {
   "cell_type": "code",
   "execution_count": null,
   "id": "4057daca-bd77-449d-b2a4-0f0c7c35e10d",
   "metadata": {},
   "outputs": [],
   "source": [
    "# return a dict of dfs\n",
    "df_physios_raw = {'Learning':df_learning, 'TrueChoice':df_true_choice, 'FalseChoice':df_false_choice, 'Offlines':df_offlines}"
   ]
  },
  {
   "cell_type": "code",
   "execution_count": null,
   "id": "656d1c30-82f2-4774-a096-ba04fd012921",
   "metadata": {},
   "outputs": [],
   "source": []
  },
  {
   "cell_type": "code",
   "execution_count": null,
   "id": "50c4e7de-4310-4548-afca-8e98f3f5c4ac",
   "metadata": {},
   "outputs": [],
   "source": [
    "# add trial number\n",
    "def add_trial_n(df):\n",
    "    trial_n = []\n",
    "    trial_count = 0            \n",
    "    for i in range(df.shape[0]):\n",
    "        if df['TriggerName'].iloc[i] == \"trialStart\":\n",
    "            if df['TriggerName'].iloc[i+1] != \"trialStart\":\n",
    "                trial_count += 1\n",
    "        if df['TriggerName'].iloc[i] == \"trialEnd\":\n",
    "            pass\n",
    "        trial_n.append(trial_count)\n",
    "    df_trialed = df.copy()\n",
    "    df_trialed['Trial_N'] = trial_n\n",
    "    return df_trialed"
   ]
  },
  {
   "cell_type": "code",
   "execution_count": null,
   "id": "d52a3c1f-4f9b-408e-b61b-9aaee4f18c16",
   "metadata": {},
   "outputs": [],
   "source": [
    "def ex_timeout(df):\n",
    "    rep = 0\n",
    "    df_in = df.copy()\n",
    "    while sum(df['TriggerName']==\"respChoiceTimeout\"):\n",
    "        rep += 1\n",
    "        trial_ex = set(df[df['TriggerName']==\"respChoiceTimeout\"].Trial_N)\n",
    "        trial_in = set(df.Trial_N) - trial_ex\n",
    "        df_in = df[df['Trial_N'].isin(trial_in)].copy()\n",
    "        if rep == 3:\n",
    "            break\n",
    "    return df_in"
   ]
  },
  {
   "cell_type": "code",
   "execution_count": null,
   "id": "399e09d6-5465-4fe1-a2be-2a946c7b2842",
   "metadata": {},
   "outputs": [],
   "source": [
    "def clean_phases(dfs, phase_names=['Learning','TrueChoice','FalseChoice','Offlines']):\n",
    "    df_physios = {}\n",
    "    for phase in phase_names:\n",
    "        df_p = dfs[phase]\n",
    "        df_trialed = add_trial_n(df_p)\n",
    "        df_in = ex_timeout(df_trialed)\n",
    "        df_physios[phase] = df_in\n",
    "    return df_physios"
   ]
  },
  {
   "cell_type": "code",
   "execution_count": null,
   "id": "f3212457-eb33-44dc-8f48-e42c3b7c3633",
   "metadata": {},
   "outputs": [],
   "source": [
    "df_physios = clean_phases(df_physios_raw)"
   ]
  },
  {
   "cell_type": "code",
   "execution_count": null,
   "id": "ba21be06-baa5-43c2-acd3-d1107053006d",
   "metadata": {},
   "outputs": [],
   "source": [
    "# # clean trials\n",
    "# phase_names = ['Learning','TrueChoice','FalseChoice','Offlines']\n",
    "# df_physios = {}\n",
    "# for phase in phase_names:\n",
    "#     print(phase)\n",
    "#     df = df_physios_raw[phase]\n",
    "#     df_trialed = add_trial_n(df)\n",
    "#     df_in = ex_timeout(df_trialed)\n",
    "#     print(df_in.shape)\n",
    "#     df_physios[phase] = df_in"
   ]
  },
  {
   "cell_type": "code",
   "execution_count": null,
   "id": "37c3eeed-98f9-47f5-9caa-b49357811e55",
   "metadata": {},
   "outputs": [],
   "source": []
  },
  {
   "cell_type": "code",
   "execution_count": null,
   "id": "c1b1251e-b130-4a92-a62b-9afefd5f53e9",
   "metadata": {},
   "outputs": [],
   "source": [
    "# computer signal values\n",
    "# learning phase: cue_i (implicit cue, associated image); cue_e (explicit cue, sequence demand) \n",
    "# true choice phase: cue_i; cue_e\n",
    "# false choice phase: cue_i; cue_e\n",
    "# offline ratings: cue_i"
   ]
  },
  {
   "cell_type": "code",
   "execution_count": null,
   "id": "43fe9aac-d964-4fac-8ab8-2a0bcd9abf0c",
   "metadata": {},
   "outputs": [],
   "source": [
    "def signal_compute(df, channel, samp_rate):    \n",
    "    label = signal.create_signal(df['line'], sampling_freq = samp_rate, name = 'label')\n",
    "    # filters\n",
    "    if channel in ['zyg', 'cor']:\n",
    "        femg = signal.create_signal(df[channel], sampling_freq = samp_rate, name = channel)\n",
    "        bandpass = filters.IIRFilter(fp=45, fs=450, btype='bandpass', ftype='butter')(femg)\n",
    "        rectify = bandpass.copy()\n",
    "        rectify[f'{channel}_IIRFilter'] = abs(bandpass[f'{channel}_IIRFilter'])\n",
    "        notch = filters.NotchFilter(f=50)(rectify)\n",
    "        norm = filters.Normalize(notch)\n",
    "        df_filtered = notch\n",
    "        # compute values\n",
    "        segmenter = segmenters.LabelSegments(timeline=label, drop_mixed=False, drop_cut=False)\n",
    "        results = segmenters.fmap(segmenter, preset_femg(), df_filtered)\n",
    "    elif channel in ['scr']:\n",
    "        eda = signal.create_signal(df[channel], sampling_freq = samp_rate, name = channel)\n",
    "        eda /= 10\n",
    "        bandpass = filters.IIRFilter(fp=0.8, fs=1.1, btype='bandpass', ftype='ellip')(eda)\n",
    "        driver = DriverEstim()(eda)\n",
    "        phasic = PhasicEstim(0.02)(driver)\n",
    "        norm = filters.Normalize(phasic)\n",
    "        df_filtered = phasic\n",
    "        # compute values\n",
    "        segmenter = segmenters.LabelSegments(timeline=label, drop_mixed=False, drop_cut=False)\n",
    "        results = segmenters.fmap(segmenter, preset_phasic(delta=0.02), df_filtered)\n",
    "    else:\n",
    "        print('wrong channel!')\n",
    "    df_res = results.to_dataframe()\n",
    "    tn = sorted(list(range(1, int(df_res.shape[0]/2)+1))*2)\n",
    "    df_res['trialn'] = tn\n",
    "    \n",
    "    return df_res"
   ]
  },
  {
   "cell_type": "code",
   "execution_count": null,
   "id": "73d7f62f-4a7b-4335-88bd-4c93f123ed62",
   "metadata": {},
   "outputs": [],
   "source": [
    "# compute physiological indicators\n",
    "# \"specialized\" folders of eda (for scr) and emg (for femg) are in different structures\n",
    "# manually change the time window of scr (has been defined in eda_preset.py file)?\n",
    "## the time window defined there was used for searching the peak. A too narrow time window may cause local maximum problem\n",
    "# why can't the preset_emg() be directly imported?\n",
    "# add two dots in \"_presets.py\" file"
   ]
  },
  {
   "cell_type": "code",
   "execution_count": null,
   "id": "57cde020-9072-4dab-b592-e0b27fbfd7f3",
   "metadata": {},
   "outputs": [],
   "source": [
    "df_all = df_physios['Learning'][df_physios['Learning']['TriggerName'].isin(['fixaCue', 'cueEasy', 'cueHard'])]\n",
    "# df = df_all[df_all['Trial_N'].isin([1,2,3,4,5,6,7,8,9,10])]\n",
    "df = df_all\n",
    "samp_rate = 1_000\n",
    "channel = 'zyg'\n",
    "# use label to segment signals\n",
    "label = signal.create_signal(df['Code'], sampling_freq = samp_rate, name = 'label')\n",
    "femg = signal.create_signal(df[channel], sampling_freq = samp_rate, name = channel)\n",
    "bandpass = filters.IIRFilter(fp=45, fs=450, btype='bandpass', ftype='butter')(femg)\n",
    "rectify = bandpass.copy()\n",
    "rectify[f'{channel}_IIRFilter'] = abs(bandpass[f'{channel}_IIRFilter'])\n",
    "notch = filters.NotchFilter(f=50)(rectify)\n",
    "df_filtered = notch\n",
    "# compute values\n",
    "segmenter = segmenters.LabelSegments(timeline=label, drop_mixed=False, drop_cut=False)\n",
    "results = segmenters.fmap(segmenter, preset_femg(), df_filtered)\n",
    "# save data\n",
    "df_res = results.to_dataframe()"
   ]
  },
  {
   "cell_type": "code",
   "execution_count": null,
   "id": "f026551e-dd60-42bc-a5ac-07d6dc526497",
   "metadata": {},
   "outputs": [],
   "source": [
    "tn = sorted(list(range(1, int(df_res.shape[0]/2)+1))*2)\n",
    "df_res['trialn'] = tn"
   ]
  },
  {
   "cell_type": "code",
   "execution_count": null,
   "id": "c1685d20-eaeb-41e4-a12a-f07126dcca87",
   "metadata": {},
   "outputs": [],
   "source": [
    "# zs = df_res.groupby('label')['zyg_IIRFilter_NotchFilter_femg_mean'].transform(zscore, ddof=1)\n",
    "# df_res['zs'] = zs"
   ]
  },
  {
   "cell_type": "code",
   "execution_count": null,
   "id": "b63c4fe8-55d6-4c4a-b3a8-1f67381185b9",
   "metadata": {},
   "outputs": [],
   "source": [
    "# df_res[abs(df_res['zs']) < 3]"
   ]
  },
  {
   "cell_type": "code",
   "execution_count": null,
   "id": "30748e98-e644-4b4a-85ff-78f3b0d36db9",
   "metadata": {},
   "outputs": [],
   "source": []
  },
  {
   "cell_type": "code",
   "execution_count": null,
   "id": "6d5f8c31-522f-4605-a9e1-40f1ba489090",
   "metadata": {},
   "outputs": [],
   "source": [
    "def ex_outliers_iqr(df, channel, gpb='label'):\n",
    "    iqrs = df.groupby(gpb)[f'{channel}_IIRFilter_NotchFilter_femg_mean'].quantile([0.05, 0.95]).unstack(level=1)\n",
    "    low_outs = iqrs.loc[df[gpb],0.05] > df[f'{channel}_IIRFilter_NotchFilter_femg_mean'].values\n",
    "    high_outs = iqrs.loc[df[gpb],0.95] < df[f'{channel}_IIRFilter_NotchFilter_femg_mean'].values\n",
    "    ts = set(df['trialn'].values)\n",
    "    t_outs = set(df.loc[(low_outs | high_outs).values]['trialn'].values)\n",
    "    t_ins = tns - outs\n",
    "    df_clean = df[df['trialn'].isin(ins)]\n",
    "    return df_clean"
   ]
  },
  {
   "cell_type": "code",
   "execution_count": null,
   "id": "bbc36319-cb2e-48a9-bc1b-783d1d822466",
   "metadata": {},
   "outputs": [],
   "source": [
    "iqrs = df_res.groupby('label')['zyg_IIRFilter_NotchFilter_femg_mean'].quantile([0.05, 0.95]).unstack(level=1)"
   ]
  },
  {
   "cell_type": "code",
   "execution_count": null,
   "id": "a24ff1c9-8710-40b8-a217-ea4c28ded1a2",
   "metadata": {},
   "outputs": [],
   "source": [
    "# iqrs"
   ]
  },
  {
   "cell_type": "code",
   "execution_count": null,
   "id": "6515f0f4-7495-4352-a52d-0947d3d38c78",
   "metadata": {},
   "outputs": [],
   "source": [
    "low_outs = iqrs.loc[df_res.label,0.05] > df_res['zyg_IIRFilter_NotchFilter_femg_mean'].values\n",
    "high_outs = iqrs.loc[df_res.label,0.95] < df_res['zyg_IIRFilter_NotchFilter_femg_mean'].values"
   ]
  },
  {
   "cell_type": "code",
   "execution_count": null,
   "id": "f8fb41f3-7094-41e3-a6b9-73fd90ff706b",
   "metadata": {},
   "outputs": [],
   "source": [
    "ts = set(df_res['trialn'].values)\n",
    "t_outs = set(df_res.loc[(low_outs | high_outs).values]['trialn'].values)\n",
    "t_ins = ts - t_outs\n",
    "t_ins"
   ]
  },
  {
   "cell_type": "code",
   "execution_count": null,
   "id": "526632ed-5bb4-4217-ab45-4e41e37e6f70",
   "metadata": {},
   "outputs": [],
   "source": [
    "df_res_clean = df_res[df_res['trialn'].isin(t_ins)]"
   ]
  },
  {
   "cell_type": "code",
   "execution_count": null,
   "id": "36cab921-61c0-4e01-8106-d6f77c4f9cdd",
   "metadata": {},
   "outputs": [],
   "source": [
    "df_res_clean"
   ]
  },
  {
   "cell_type": "code",
   "execution_count": null,
   "id": "7e26d0db-2242-40f0-a850-21f9f14eaa7f",
   "metadata": {},
   "outputs": [],
   "source": [
    "# dff = signal_compute(df_learning, 'zyg', 1_000)"
   ]
  },
  {
   "cell_type": "code",
   "execution_count": null,
   "id": "528dd41c-9224-4577-b476-f981d3b3ff2e",
   "metadata": {},
   "outputs": [],
   "source": []
  },
  {
   "cell_type": "code",
   "execution_count": null,
   "id": "9aa546e3-e9a0-4ee8-bd61-9f4e083596e4",
   "metadata": {},
   "outputs": [],
   "source": []
  },
  {
   "cell_type": "code",
   "execution_count": null,
   "id": "f1aa2e86-b321-4607-97f8-764f6b5e2922",
   "metadata": {},
   "outputs": [],
   "source": []
  },
  {
   "cell_type": "code",
   "execution_count": null,
   "id": "5aaf0395-aa05-4340-a217-7915903b51b5",
   "metadata": {},
   "outputs": [],
   "source": [
    "df_res.columns"
   ]
  },
  {
   "cell_type": "code",
   "execution_count": null,
   "id": "9ffd56b7-9dba-44b8-a63d-9d66a1b8f37f",
   "metadata": {},
   "outputs": [],
   "source": [
    "def diff_values(df, channel, tn):\n",
    "    values = []\n",
    "    trials = range(1, 1+tn)\n",
    "    trials_in = set(df_res_clean['trialn'].values)\n",
    "    for i in trials:\n",
    "        if i in trials_in:\n",
    "            df = df_res_clean.loc[df_res_clean['trialn']==i,['label',f'{channel}_IIRFilter_NotchFilter_femg_mean']]\n",
    "            idx = list(df.columns).index(f'{channel}_IIRFilter_NotchFilter_femg_mean')\n",
    "            df.iloc[0, idx]\n",
    "            fixa = df.iloc[0, idx]\n",
    "            target = df.iloc[1, idx]\n",
    "            diff = target - fixa\n",
    "        else:\n",
    "            diff = np.nan\n",
    "        values.append(diff)\n",
    "        zvalues = zscore(values, nan_policy='omit')\n",
    "    diffs = pd.DataFrame({'trials':trials, f'{channel}_values':values, f'{channel}_zvalues':zvalues})\n",
    "    return diffs"
   ]
  },
  {
   "cell_type": "code",
   "execution_count": null,
   "id": "33b7d55d-0c18-44db-9e98-c005786f3be1",
   "metadata": {},
   "outputs": [],
   "source": []
  },
  {
   "cell_type": "code",
   "execution_count": null,
   "id": "e8520380-8982-4b94-88d0-342b47835fea",
   "metadata": {},
   "outputs": [],
   "source": [
    "values = []\n",
    "zvalues = []\n",
    "trials = range(1, 1+50)\n",
    "trials_in = set(df_res_clean['trialn'].values)\n",
    "for i in trials:\n",
    "    if i in trials_in:\n",
    "        df = df_res_clean.loc[df_res_clean['trialn']==i,['label','zyg_IIRFilter_NotchFilter_femg_mean']]\n",
    "        idx = list(df.columns).index('zyg_IIRFilter_NotchFilter_femg_mean')\n",
    "        df.iloc[0, idx]\n",
    "        fixa = df.iloc[0, idx]\n",
    "        target = df.iloc[1, idx]\n",
    "        diff = target - fixa\n",
    "    else:\n",
    "        diff = np.nan\n",
    "    values.append(diff)\n",
    "    zvalues = zscore(values, nan_policy='omit')\n",
    "diffs = pd.DataFrame({'TrialN':trials, 'zyg_values':values, 'zyg_zvalues':zvalues})\n",
    "diffs"
   ]
  },
  {
   "cell_type": "code",
   "execution_count": null,
   "id": "6704f8da-9ec0-4cd5-a654-53112ef2f424",
   "metadata": {},
   "outputs": [],
   "source": [
    "# combine the results to behavior data"
   ]
  },
  {
   "cell_type": "code",
   "execution_count": 14,
   "id": "282001df-0c22-425a-ada7-aac340c4480e",
   "metadata": {},
   "outputs": [],
   "source": [
    "# load data\n",
    "datafile = \"E:\\Dissertation\\Methods\\Exp2_Demand_Choice\\Analysis\\Exp2_data2\\\\007\\Data\\\\007_task.csv\"\n",
    "col_names = [\"PID\",\"Age\",\"Gender\",\"Phase\",\"Block\", \"TrialN\", \"NbackLevel\", \"ISI\", \n",
    "             # Calibration Info\n",
    "               \"TrialCountCali\", \"CaliEnd_A_measure\",\n",
    "             # Trial Info\n",
    "             \"TrialIndex\", \"TrialNumber_total\", \"TrialNumber_valid\",\n",
    "             # Trial Performance\n",
    "             \"Trial_A_measure\",\n",
    "             \"Trial_ACC\",\"Trial_RT\",\n",
    "             \"Letter_Resp\", \"Letter_RT\", \"Letter_Accuracy\",\n",
    "             # Learning Phase \n",
    "             \"CueLearning\", \"CueMapping\", \"TrialDemandLearning\",\n",
    "             # True & False choice\n",
    "             \"CueLeft\", \"CueDemandLeft\",\n",
    "             \"CueRight\", \"CueDemandRight\",\n",
    "             \"PhaseType\",\n",
    "             \"Choice\", \"ChoiceRT\",\n",
    "             \"ChoiceDemand\", \"TaskDemand\",\n",
    "             # Offline Rating T1, T2, T3\n",
    "             \"OfflineRatingTimePoint\",\n",
    "             \"CueFigure\", \"TrialDemand\",\n",
    "             \"OfflineRating\", \"OfflineRatingRT\",\n",
    "             # Learning check\n",
    "             \"CueCheck\", \"CueDemandCheck\", \"CorrectAnswer\",\n",
    "             \"Answer\", \"AnswerDemand\", \"AnswerRT\", \"AnswerACC\",\n",
    "             # Demand Rating\n",
    "             \"DemandRatingQuesIndex\", \"QuesTLX\", \"DemandLevel\", \n",
    "             \"DemandRating\", \"DemandRatingRT\", \n",
    "             # End\n",
    "             \"END\"]\n",
    "df_behav = pd.read_csv(datafile, header=0, index_col=False, usecols=col_names)\n",
    "# separate phases\n",
    "df_behav_learning = df_behav[df_behav['Phase'] == \"LEARNING\"].copy().sort_values('TrialN')\n",
    "df_behav_choice_true = df_behav[df_behav['Phase'] == \"TrueCHOICE\"].copy().sort_values('TrialN')\n",
    "df_behav_choice_false = df_behav[df_behav['Phase'] == \"FalseCHOICE\"].copy().sort_values('TrialN')\n",
    "df_behav_offlines = df_behav[df_behav['Phase'] == \"OFFLINERATING\"].copy().sort_values('TrialN')\n",
    "df_behav_learning_checks = df_behav[df_behav['Phase'] == \"LEARNINGCHECK\"].copy().sort_values('TrialN')\n",
    "df_behav_demand_ratings = df_behav[df_behav['Phase'] == \"DEMANDRATING\"].copy().sort_values('TrialN')\n",
    "# return a dict of dfs\n",
    "df_behavs = {'Learning':df_behav_learning, 'TrueChoice':df_behav_choice_true, 'FalseChoice':df_behav_choice_false, 'Offlines':df_behav_offlines}\n",
    "\n",
    "df_behavs['Learning']['TrialN'] = df_behavs['Learning']['TrialN'].astype(int)"
   ]
  },
  {
   "cell_type": "code",
   "execution_count": 15,
   "id": "c5311c31-6996-487e-a1dc-6d7d608c81a3",
   "metadata": {},
   "outputs": [
    {
     "data": {
      "text/html": [
       "<div>\n",
       "<style scoped>\n",
       "    .dataframe tbody tr th:only-of-type {\n",
       "        vertical-align: middle;\n",
       "    }\n",
       "\n",
       "    .dataframe tbody tr th {\n",
       "        vertical-align: top;\n",
       "    }\n",
       "\n",
       "    .dataframe thead th {\n",
       "        text-align: right;\n",
       "    }\n",
       "</style>\n",
       "<table border=\"1\" class=\"dataframe\">\n",
       "  <thead>\n",
       "    <tr style=\"text-align: right;\">\n",
       "      <th></th>\n",
       "      <th>END</th>\n",
       "      <th>Phase</th>\n",
       "      <th>Block</th>\n",
       "      <th>TrialN</th>\n",
       "      <th>NbackLevel</th>\n",
       "      <th>ISI</th>\n",
       "      <th>Letter_Resp</th>\n",
       "      <th>Letter_RT</th>\n",
       "      <th>Letter_Accuracy</th>\n",
       "      <th>Trial_A_measure</th>\n",
       "      <th>...</th>\n",
       "      <th>AnswerRT</th>\n",
       "      <th>AnswerACC</th>\n",
       "      <th>DemandRatingQuesIndex</th>\n",
       "      <th>QuesTLX</th>\n",
       "      <th>DemandLevel</th>\n",
       "      <th>DemandRating</th>\n",
       "      <th>DemandRatingRT</th>\n",
       "      <th>PID</th>\n",
       "      <th>Age</th>\n",
       "      <th>Gender</th>\n",
       "    </tr>\n",
       "  </thead>\n",
       "  <tbody>\n",
       "    <tr>\n",
       "      <th>0</th>\n",
       "      <td>33.66342380037531</td>\n",
       "      <td>NaN</td>\n",
       "      <td>NaN</td>\n",
       "      <td>NaN</td>\n",
       "      <td>NaN</td>\n",
       "      <td>NaN</td>\n",
       "      <td>NaN</td>\n",
       "      <td>NaN</td>\n",
       "      <td>NaN</td>\n",
       "      <td>NaN</td>\n",
       "      <td>...</td>\n",
       "      <td>NaN</td>\n",
       "      <td>NaN</td>\n",
       "      <td>NaN</td>\n",
       "      <td>NaN</td>\n",
       "      <td>NaN</td>\n",
       "      <td>NaN</td>\n",
       "      <td>NaN</td>\n",
       "      <td>7</td>\n",
       "      <td>20</td>\n",
       "      <td>Female</td>\n",
       "    </tr>\n",
       "    <tr>\n",
       "      <th>1</th>\n",
       "      <td>42.084093200042844</td>\n",
       "      <td>NaN</td>\n",
       "      <td>NaN</td>\n",
       "      <td>NaN</td>\n",
       "      <td>NaN</td>\n",
       "      <td>NaN</td>\n",
       "      <td>NaN</td>\n",
       "      <td>NaN</td>\n",
       "      <td>NaN</td>\n",
       "      <td>NaN</td>\n",
       "      <td>...</td>\n",
       "      <td>NaN</td>\n",
       "      <td>NaN</td>\n",
       "      <td>NaN</td>\n",
       "      <td>NaN</td>\n",
       "      <td>NaN</td>\n",
       "      <td>NaN</td>\n",
       "      <td>NaN</td>\n",
       "      <td>7</td>\n",
       "      <td>20</td>\n",
       "      <td>Female</td>\n",
       "    </tr>\n",
       "    <tr>\n",
       "      <th>2</th>\n",
       "      <td>51.7739571002312</td>\n",
       "      <td>NaN</td>\n",
       "      <td>NaN</td>\n",
       "      <td>NaN</td>\n",
       "      <td>NaN</td>\n",
       "      <td>NaN</td>\n",
       "      <td>NaN</td>\n",
       "      <td>NaN</td>\n",
       "      <td>NaN</td>\n",
       "      <td>NaN</td>\n",
       "      <td>...</td>\n",
       "      <td>NaN</td>\n",
       "      <td>NaN</td>\n",
       "      <td>NaN</td>\n",
       "      <td>NaN</td>\n",
       "      <td>NaN</td>\n",
       "      <td>NaN</td>\n",
       "      <td>NaN</td>\n",
       "      <td>7</td>\n",
       "      <td>20</td>\n",
       "      <td>Female</td>\n",
       "    </tr>\n",
       "    <tr>\n",
       "      <th>3</th>\n",
       "      <td>72.32128670020029</td>\n",
       "      <td>NaN</td>\n",
       "      <td>NaN</td>\n",
       "      <td>NaN</td>\n",
       "      <td>NaN</td>\n",
       "      <td>NaN</td>\n",
       "      <td>NaN</td>\n",
       "      <td>NaN</td>\n",
       "      <td>NaN</td>\n",
       "      <td>NaN</td>\n",
       "      <td>...</td>\n",
       "      <td>NaN</td>\n",
       "      <td>NaN</td>\n",
       "      <td>NaN</td>\n",
       "      <td>NaN</td>\n",
       "      <td>NaN</td>\n",
       "      <td>NaN</td>\n",
       "      <td>NaN</td>\n",
       "      <td>7</td>\n",
       "      <td>20</td>\n",
       "      <td>Female</td>\n",
       "    </tr>\n",
       "    <tr>\n",
       "      <th>4</th>\n",
       "      <td>88.26496840035543</td>\n",
       "      <td>NaN</td>\n",
       "      <td>NaN</td>\n",
       "      <td>NaN</td>\n",
       "      <td>NaN</td>\n",
       "      <td>NaN</td>\n",
       "      <td>NaN</td>\n",
       "      <td>NaN</td>\n",
       "      <td>NaN</td>\n",
       "      <td>NaN</td>\n",
       "      <td>...</td>\n",
       "      <td>NaN</td>\n",
       "      <td>NaN</td>\n",
       "      <td>NaN</td>\n",
       "      <td>NaN</td>\n",
       "      <td>NaN</td>\n",
       "      <td>NaN</td>\n",
       "      <td>NaN</td>\n",
       "      <td>7</td>\n",
       "      <td>20</td>\n",
       "      <td>Female</td>\n",
       "    </tr>\n",
       "    <tr>\n",
       "      <th>...</th>\n",
       "      <td>...</td>\n",
       "      <td>...</td>\n",
       "      <td>...</td>\n",
       "      <td>...</td>\n",
       "      <td>...</td>\n",
       "      <td>...</td>\n",
       "      <td>...</td>\n",
       "      <td>...</td>\n",
       "      <td>...</td>\n",
       "      <td>...</td>\n",
       "      <td>...</td>\n",
       "      <td>...</td>\n",
       "      <td>...</td>\n",
       "      <td>...</td>\n",
       "      <td>...</td>\n",
       "      <td>...</td>\n",
       "      <td>...</td>\n",
       "      <td>...</td>\n",
       "      <td>...</td>\n",
       "      <td>...</td>\n",
       "      <td>...</td>\n",
       "    </tr>\n",
       "    <tr>\n",
       "      <th>1484</th>\n",
       "      <td>240610_152751</td>\n",
       "      <td>DEMANDRATING</td>\n",
       "      <td>9.0</td>\n",
       "      <td>NaN</td>\n",
       "      <td>NaN</td>\n",
       "      <td>NaN</td>\n",
       "      <td>NaN</td>\n",
       "      <td>NaN</td>\n",
       "      <td>NaN</td>\n",
       "      <td>NaN</td>\n",
       "      <td>...</td>\n",
       "      <td>NaN</td>\n",
       "      <td>NaN</td>\n",
       "      <td>6.0</td>\n",
       "      <td>Frustration</td>\n",
       "      <td>2.0</td>\n",
       "      <td>45.0</td>\n",
       "      <td>3.619960</td>\n",
       "      <td>7</td>\n",
       "      <td>20</td>\n",
       "      <td>Female</td>\n",
       "    </tr>\n",
       "    <tr>\n",
       "      <th>1485</th>\n",
       "      <td>240610_152755</td>\n",
       "      <td>DEMANDRATING</td>\n",
       "      <td>9.0</td>\n",
       "      <td>NaN</td>\n",
       "      <td>NaN</td>\n",
       "      <td>NaN</td>\n",
       "      <td>NaN</td>\n",
       "      <td>NaN</td>\n",
       "      <td>NaN</td>\n",
       "      <td>NaN</td>\n",
       "      <td>...</td>\n",
       "      <td>NaN</td>\n",
       "      <td>NaN</td>\n",
       "      <td>7.0</td>\n",
       "      <td>MentalDemand</td>\n",
       "      <td>3.0</td>\n",
       "      <td>74.0</td>\n",
       "      <td>2.387065</td>\n",
       "      <td>7</td>\n",
       "      <td>20</td>\n",
       "      <td>Female</td>\n",
       "    </tr>\n",
       "    <tr>\n",
       "      <th>1486</th>\n",
       "      <td>240610_152759</td>\n",
       "      <td>DEMANDRATING</td>\n",
       "      <td>9.0</td>\n",
       "      <td>NaN</td>\n",
       "      <td>NaN</td>\n",
       "      <td>NaN</td>\n",
       "      <td>NaN</td>\n",
       "      <td>NaN</td>\n",
       "      <td>NaN</td>\n",
       "      <td>NaN</td>\n",
       "      <td>...</td>\n",
       "      <td>NaN</td>\n",
       "      <td>NaN</td>\n",
       "      <td>8.0</td>\n",
       "      <td>Effort</td>\n",
       "      <td>3.0</td>\n",
       "      <td>74.0</td>\n",
       "      <td>2.396761</td>\n",
       "      <td>7</td>\n",
       "      <td>20</td>\n",
       "      <td>Female</td>\n",
       "    </tr>\n",
       "    <tr>\n",
       "      <th>1487</th>\n",
       "      <td>240610_152802</td>\n",
       "      <td>DEMANDRATING</td>\n",
       "      <td>9.0</td>\n",
       "      <td>NaN</td>\n",
       "      <td>NaN</td>\n",
       "      <td>NaN</td>\n",
       "      <td>NaN</td>\n",
       "      <td>NaN</td>\n",
       "      <td>NaN</td>\n",
       "      <td>NaN</td>\n",
       "      <td>...</td>\n",
       "      <td>NaN</td>\n",
       "      <td>NaN</td>\n",
       "      <td>9.0</td>\n",
       "      <td>Frustration</td>\n",
       "      <td>3.0</td>\n",
       "      <td>56.0</td>\n",
       "      <td>1.759528</td>\n",
       "      <td>7</td>\n",
       "      <td>20</td>\n",
       "      <td>Female</td>\n",
       "    </tr>\n",
       "    <tr>\n",
       "      <th>1488</th>\n",
       "      <td>3192.6679811002687</td>\n",
       "      <td>NaN</td>\n",
       "      <td>NaN</td>\n",
       "      <td>NaN</td>\n",
       "      <td>NaN</td>\n",
       "      <td>NaN</td>\n",
       "      <td>NaN</td>\n",
       "      <td>NaN</td>\n",
       "      <td>NaN</td>\n",
       "      <td>NaN</td>\n",
       "      <td>...</td>\n",
       "      <td>NaN</td>\n",
       "      <td>NaN</td>\n",
       "      <td>NaN</td>\n",
       "      <td>NaN</td>\n",
       "      <td>NaN</td>\n",
       "      <td>NaN</td>\n",
       "      <td>NaN</td>\n",
       "      <td>7</td>\n",
       "      <td>20</td>\n",
       "      <td>Female</td>\n",
       "    </tr>\n",
       "  </tbody>\n",
       "</table>\n",
       "<p>1489 rows × 49 columns</p>\n",
       "</div>"
      ],
      "text/plain": [
       "                     END         Phase  Block  TrialN  NbackLevel  ISI  \\\n",
       "0      33.66342380037531           NaN    NaN     NaN         NaN  NaN   \n",
       "1     42.084093200042844           NaN    NaN     NaN         NaN  NaN   \n",
       "2       51.7739571002312           NaN    NaN     NaN         NaN  NaN   \n",
       "3      72.32128670020029           NaN    NaN     NaN         NaN  NaN   \n",
       "4      88.26496840035543           NaN    NaN     NaN         NaN  NaN   \n",
       "...                  ...           ...    ...     ...         ...  ...   \n",
       "1484       240610_152751  DEMANDRATING    9.0     NaN         NaN  NaN   \n",
       "1485       240610_152755  DEMANDRATING    9.0     NaN         NaN  NaN   \n",
       "1486       240610_152759  DEMANDRATING    9.0     NaN         NaN  NaN   \n",
       "1487       240610_152802  DEMANDRATING    9.0     NaN         NaN  NaN   \n",
       "1488  3192.6679811002687           NaN    NaN     NaN         NaN  NaN   \n",
       "\n",
       "     Letter_Resp  Letter_RT  Letter_Accuracy  Trial_A_measure  ...  AnswerRT  \\\n",
       "0            NaN        NaN              NaN              NaN  ...       NaN   \n",
       "1            NaN        NaN              NaN              NaN  ...       NaN   \n",
       "2            NaN        NaN              NaN              NaN  ...       NaN   \n",
       "3            NaN        NaN              NaN              NaN  ...       NaN   \n",
       "4            NaN        NaN              NaN              NaN  ...       NaN   \n",
       "...          ...        ...              ...              ...  ...       ...   \n",
       "1484         NaN        NaN              NaN              NaN  ...       NaN   \n",
       "1485         NaN        NaN              NaN              NaN  ...       NaN   \n",
       "1486         NaN        NaN              NaN              NaN  ...       NaN   \n",
       "1487         NaN        NaN              NaN              NaN  ...       NaN   \n",
       "1488         NaN        NaN              NaN              NaN  ...       NaN   \n",
       "\n",
       "      AnswerACC  DemandRatingQuesIndex       QuesTLX  DemandLevel  \\\n",
       "0           NaN                    NaN           NaN          NaN   \n",
       "1           NaN                    NaN           NaN          NaN   \n",
       "2           NaN                    NaN           NaN          NaN   \n",
       "3           NaN                    NaN           NaN          NaN   \n",
       "4           NaN                    NaN           NaN          NaN   \n",
       "...         ...                    ...           ...          ...   \n",
       "1484        NaN                    6.0   Frustration          2.0   \n",
       "1485        NaN                    7.0  MentalDemand          3.0   \n",
       "1486        NaN                    8.0        Effort          3.0   \n",
       "1487        NaN                    9.0   Frustration          3.0   \n",
       "1488        NaN                    NaN           NaN          NaN   \n",
       "\n",
       "      DemandRating  DemandRatingRT PID Age  Gender  \n",
       "0              NaN             NaN   7  20  Female  \n",
       "1              NaN             NaN   7  20  Female  \n",
       "2              NaN             NaN   7  20  Female  \n",
       "3              NaN             NaN   7  20  Female  \n",
       "4              NaN             NaN   7  20  Female  \n",
       "...            ...             ...  ..  ..     ...  \n",
       "1484          45.0        3.619960   7  20  Female  \n",
       "1485          74.0        2.387065   7  20  Female  \n",
       "1486          74.0        2.396761   7  20  Female  \n",
       "1487          56.0        1.759528   7  20  Female  \n",
       "1488           NaN             NaN   7  20  Female  \n",
       "\n",
       "[1489 rows x 49 columns]"
      ]
     },
     "execution_count": 15,
     "metadata": {},
     "output_type": "execute_result"
    }
   ],
   "source": [
    "df_behav"
   ]
  },
  {
   "cell_type": "code",
   "execution_count": null,
   "id": "2e2fbdaa-1e35-48cd-8ddb-bd1ca6b9af02",
   "metadata": {},
   "outputs": [],
   "source": [
    "def comb(df_phys, df_behs, phase_names):\n",
    "    df_combs = {}\n",
    "    for phase in phase_names:\n",
    "        df_comb = df_beh[phase].merge(df_phy[phase], on=\"TrialN\")\n",
    "        df_combs[phase] = df_comb\n",
    "    return df_combs"
   ]
  },
  {
   "cell_type": "code",
   "execution_count": null,
   "id": "e18fa500-1f35-41bf-b1cd-92d52a1dd073",
   "metadata": {},
   "outputs": [],
   "source": [
    "### loop.py file ###\n",
    "# combine dataframes\n",
    "# should be looped through phases\n",
    "df_comb = df_behavs['Learning'].merge(diffs, on=\"TrialN\")"
   ]
  },
  {
   "cell_type": "code",
   "execution_count": null,
   "id": "a2b3dbe4-9117-4dd1-bc5c-c25eccd3305b",
   "metadata": {},
   "outputs": [],
   "source": [
    "df_comb.groupby('TrialDemandLearning').mean('zyg_zvalues')"
   ]
  },
  {
   "cell_type": "code",
   "execution_count": null,
   "id": "cfc3712a-1bc2-4ae5-bb1b-aff26f023383",
   "metadata": {},
   "outputs": [],
   "source": [
    "df_comb.columns"
   ]
  },
  {
   "cell_type": "code",
   "execution_count": null,
   "id": "280c4027-1d05-4043-9c8a-d0ec2d76865d",
   "metadata": {},
   "outputs": [],
   "source": [
    "plt.plot(df_comb[df_comb['TrialDemandLearning']==\"Easy\"]['TrialN'], df_comb[df_comb['TrialDemandLearning']==\"Easy\"]['zyg_zvalues'], 'g*-')\n",
    "plt.plot(df_comb[df_comb['TrialDemandLearning']==\"Hard\"]['TrialN'], df_comb[df_comb['TrialDemandLearning']==\"Hard\"]['zyg_zvalues'], 'r*-')"
   ]
  },
  {
   "cell_type": "code",
   "execution_count": null,
   "id": "fb5f4893-c5e9-4209-a1b1-a1c69417d1be",
   "metadata": {},
   "outputs": [],
   "source": []
  },
  {
   "cell_type": "code",
   "execution_count": null,
   "id": "8d71dd5a-9527-4530-9929-81e88f9a8e80",
   "metadata": {},
   "outputs": [],
   "source": []
  },
  {
   "cell_type": "code",
   "execution_count": null,
   "id": "ac2fb64d-3222-4400-96b4-37b4da819aaf",
   "metadata": {},
   "outputs": [],
   "source": []
  },
  {
   "cell_type": "code",
   "execution_count": null,
   "id": "75b9dcbc-2e04-45b5-8f6e-719d5e822a1e",
   "metadata": {},
   "outputs": [],
   "source": [
    "# lab = label.variables['label'].values[:,0,0]\n",
    "# sig_emg = emg.variables['zyg'].values[:,0,0]\n",
    "# sig_bandpass = bandpass.variables['zyg_IIRFilter'].values[:,0,0]\n",
    "sig_notch = notch.variables['zyg_IIRFilter_NotchFilter'].values[:,0,0]\n",
    "# plt.plot(sig_emg, alpha=0.4, label='raw')\n",
    "# plt.plot(sig_bandpass, alpha=0.5, label='bandpass')\n",
    "plt.plot(notch['time'].values, sig_notch, alpha=1, label='notch')\n",
    "plt.vlines(df_res['time_start'],0, 0.1, colors='black', alpha=0.5)\n",
    "plt.legend()"
   ]
  },
  {
   "cell_type": "code",
   "execution_count": null,
   "id": "a744744f-5d0f-4b9e-b835-d0188e6b52f7",
   "metadata": {},
   "outputs": [],
   "source": []
  },
  {
   "cell_type": "code",
   "execution_count": null,
   "id": "ecaad060-847d-4a6a-b450-9fa354ca3c3c",
   "metadata": {},
   "outputs": [],
   "source": [
    "import pandas as pd\n",
    "a = range(10)\n",
    "b = range(10)\n",
    "df = pd.DataFrame({'a':a, 'b':b})\n",
    "df['a'].shape[0]"
   ]
  },
  {
   "cell_type": "markdown",
   "id": "64c143f8-0fce-451a-bcdf-0556b42f4485",
   "metadata": {},
   "source": [
    "# Learning Phase"
   ]
  },
  {
   "cell_type": "code",
   "execution_count": null,
   "id": "2242ba00-376a-41be-a5a7-e30a6c85f77c",
   "metadata": {},
   "outputs": [],
   "source": [
    "# df_learning"
   ]
  },
  {
   "cell_type": "code",
   "execution_count": null,
   "id": "30c5f932-5277-4154-be46-c909a9faf62d",
   "metadata": {},
   "outputs": [],
   "source": []
  },
  {
   "cell_type": "markdown",
   "id": "0e8de61e-eb04-4d20-b4b4-fe3e42e03215",
   "metadata": {},
   "source": [
    "# True Choice Phase"
   ]
  },
  {
   "cell_type": "code",
   "execution_count": null,
   "id": "26dec8af-dec2-44fd-97b0-e040262cc4da",
   "metadata": {},
   "outputs": [],
   "source": [
    "# df_choice_true.Trial_N.value_counts()"
   ]
  },
  {
   "cell_type": "markdown",
   "id": "515c0c24-b8db-45e3-b02f-b964f545febd",
   "metadata": {},
   "source": [
    "# False Choice Phase"
   ]
  },
  {
   "cell_type": "code",
   "execution_count": null,
   "id": "1a75b099-71de-4d12-951f-7e45b2567fd0",
   "metadata": {},
   "outputs": [],
   "source": [
    "# set(df_choice_false.Trial_N)"
   ]
  },
  {
   "cell_type": "markdown",
   "id": "94545bff-9d6c-43f0-91f8-5184c8489f47",
   "metadata": {},
   "source": [
    "# Offline Ratings"
   ]
  },
  {
   "cell_type": "code",
   "execution_count": null,
   "id": "0a1a4e5a-7e11-4eeb-adbd-f3cb690ea4e7",
   "metadata": {},
   "outputs": [],
   "source": [
    "# df_offlines['Timepoint'] = df_offlines['Phase'].str[-2:]"
   ]
  },
  {
   "cell_type": "markdown",
   "id": "8fac9c5f-5bb3-4de9-b085-430c50729b15",
   "metadata": {},
   "source": [
    "# Learning Checks"
   ]
  },
  {
   "cell_type": "code",
   "execution_count": null,
   "id": "3bc5d9b7-f0c8-40ca-a7ab-3d30cda3fe23",
   "metadata": {},
   "outputs": [],
   "source": [
    "# df_learning_checks['Timepoint'] = df_learning_checks['Phase'].str[-2:]"
   ]
  },
  {
   "cell_type": "code",
   "execution_count": null,
   "id": "872610a8-a17d-4399-b3e4-61f20c1eeade",
   "metadata": {},
   "outputs": [],
   "source": []
  },
  {
   "cell_type": "code",
   "execution_count": null,
   "id": "6d145f38-7470-49ee-80d7-a5520a756db3",
   "metadata": {},
   "outputs": [],
   "source": []
  },
  {
   "cell_type": "markdown",
   "id": "aa960ffd-3b32-4170-8fd2-f6ad5150f48c",
   "metadata": {},
   "source": [
    "# Questionnaires"
   ]
  },
  {
   "cell_type": "code",
   "execution_count": 22,
   "id": "2fe9e23e-8667-41d2-99f5-dc15e0384aef",
   "metadata": {},
   "outputs": [
    {
     "data": {
      "text/plain": [
       "True"
      ]
     },
     "execution_count": 22,
     "metadata": {},
     "output_type": "execute_result"
    }
   ],
   "source": [
    "match = ['Wel','b','c','d','e']\n",
    "str = \"Welcome_to_Tutorialspoint\"\n",
    "match[0] in str "
   ]
  },
  {
   "cell_type": "code",
   "execution_count": null,
   "id": "3677b5cb-4b23-4a15-8b63-1e42ba2b4265",
   "metadata": {},
   "outputs": [],
   "source": []
  },
  {
   "cell_type": "code",
   "execution_count": null,
   "id": "530410a6-1a2a-4a20-a12d-bb2b3668423e",
   "metadata": {},
   "outputs": [],
   "source": []
  }
 ],
 "metadata": {
  "kernelspec": {
   "display_name": "Python 3 (ipykernel)",
   "language": "python",
   "name": "python3"
  },
  "language_info": {
   "codemirror_mode": {
    "name": "ipython",
    "version": 3
   },
   "file_extension": ".py",
   "mimetype": "text/x-python",
   "name": "python",
   "nbconvert_exporter": "python",
   "pygments_lexer": "ipython3",
   "version": "3.11.7"
  }
 },
 "nbformat": 4,
 "nbformat_minor": 5
}
